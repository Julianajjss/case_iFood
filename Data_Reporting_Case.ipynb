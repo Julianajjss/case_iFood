{
  "nbformat": 4,
  "nbformat_minor": 0,
  "metadata": {
    "colab": {
      "name": "Data_Reporting_Case",
      "provenance": [],
      "collapsed_sections": [
        "u4Ig41zdcnvl",
        "qftiaXafZE1w",
        "uk0Ttwth-E3I",
        "oV1sfjO6Gy5e",
        "kOSioRZLZmsm",
        "ScQXB4i3lOFQ",
        "mQQFGT0fHReP",
        "i6oABDsTHpnU",
        "vAmu0lsYH5OC",
        "pQMwhJQzSuws",
        "JUgmOm0HNkNc",
        "rBL5ufuqaa1u",
        "L984Q0djbJ0b",
        "LfHoL3RnYCi5",
        "3rHxxslrY7-Z",
        "rSv4Mg6Dbvi1"
      ],
      "mount_file_id": "1h__q5Z0vlnGRtI7YZGz60QeeXaS0Tdgd",
      "authorship_tag": "ABX9TyNF1KZYZ+jOiFP5A3OV3kU3",
      "include_colab_link": true
    },
    "kernelspec": {
      "name": "python3",
      "display_name": "Python 3"
    },
    "language_info": {
      "name": "python"
    }
  },
  "cells": [
    {
      "cell_type": "markdown",
      "metadata": {
        "id": "view-in-github",
        "colab_type": "text"
      },
      "source": [
        "<a href=\"https://colab.research.google.com/github/Julianajjss/case_iFood/blob/main/Data_Reporting_Case.ipynb\" target=\"_parent\"><img src=\"https://colab.research.google.com/assets/colab-badge.svg\" alt=\"Open In Colab\"/></a>"
      ]
    },
    {
      "cell_type": "markdown",
      "metadata": {
        "id": "u4Ig41zdcnvl"
      },
      "source": [
        "# **Análise Exploratória - Case iFood**\n"
      ]
    },
    {
      "cell_type": "markdown",
      "metadata": {
        "id": "qftiaXafZE1w"
      },
      "source": [
        "##### importando as bibliotecas necessarias"
      ]
    },
    {
      "cell_type": "code",
      "metadata": {
        "id": "XSVnvVSk7Riw"
      },
      "source": [
        "import pandas as pd\n",
        "import json\n",
        "import pytz\n",
        "import numpy as np\n",
        "import matplotlib.pyplot as plt\n",
        "import seaborn as sns"
      ],
      "execution_count": null,
      "outputs": []
    },
    {
      "cell_type": "code",
      "metadata": {
        "colab": {
          "base_uri": "https://localhost:8080/"
        },
        "id": "lY-aMosBVdTl",
        "outputId": "e076dc8d-2ef5-405f-cb51-4a4f101bda2d"
      },
      "source": [
        "!pip install plotly --upgrade"
      ],
      "execution_count": null,
      "outputs": [
        {
          "output_type": "stream",
          "text": [
            "Requirement already satisfied: plotly in /usr/local/lib/python3.7/dist-packages (4.4.1)\n",
            "Collecting plotly\n",
            "  Downloading plotly-5.1.0-py2.py3-none-any.whl (20.6 MB)\n",
            "\u001b[K     |████████████████████████████████| 20.6 MB 1.2 MB/s \n",
            "\u001b[?25hCollecting tenacity>=6.2.0\n",
            "  Downloading tenacity-8.0.1-py3-none-any.whl (24 kB)\n",
            "Requirement already satisfied: six in /usr/local/lib/python3.7/dist-packages (from plotly) (1.15.0)\n",
            "Installing collected packages: tenacity, plotly\n",
            "  Attempting uninstall: plotly\n",
            "    Found existing installation: plotly 4.4.1\n",
            "    Uninstalling plotly-4.4.1:\n",
            "      Successfully uninstalled plotly-4.4.1\n",
            "Successfully installed plotly-5.1.0 tenacity-8.0.1\n"
          ],
          "name": "stdout"
        }
      ]
    },
    {
      "cell_type": "code",
      "metadata": {
        "id": "bBQ2mLZwVl0G"
      },
      "source": [
        "pd.options.plotting.backend = \"plotly\""
      ],
      "execution_count": null,
      "outputs": []
    },
    {
      "cell_type": "code",
      "metadata": {
        "id": "yDrzNR0rVmn6"
      },
      "source": [
        "my_timezone = pytz.timezone('Brazil/East')"
      ],
      "execution_count": null,
      "outputs": []
    },
    {
      "cell_type": "markdown",
      "metadata": {
        "id": "uk0Ttwth-E3I"
      },
      "source": [
        "## **API YouTube**"
      ]
    },
    {
      "cell_type": "markdown",
      "metadata": {
        "id": "G768uqCeZSlq"
      },
      "source": [
        "##### API do Youtube para por as categorias"
      ]
    },
    {
      "cell_type": "code",
      "metadata": {
        "id": "qoKuxU1B-Jsy"
      },
      "source": [
        "from googleapiclient.discovery import build"
      ],
      "execution_count": null,
      "outputs": []
    },
    {
      "cell_type": "code",
      "metadata": {
        "id": "vMZywx7L-Qf8",
        "colab": {
          "base_uri": "https://localhost:8080/",
          "height": 180
        },
        "outputId": "f52d11e2-a072-4227-859f-bfdb3288fa1c"
      },
      "source": [
        "df.titleUrl.fillna(value='', inplace=True)\n",
        "df = df[df.titleUrl != '']"
      ],
      "execution_count": null,
      "outputs": [
        {
          "output_type": "error",
          "ename": "NameError",
          "evalue": "ignored",
          "traceback": [
            "\u001b[0;31m---------------------------------------------------------------------------\u001b[0m",
            "\u001b[0;31mNameError\u001b[0m                                 Traceback (most recent call last)",
            "\u001b[0;32m<ipython-input-11-64143f2168d7>\u001b[0m in \u001b[0;36m<module>\u001b[0;34m()\u001b[0m\n\u001b[0;32m----> 1\u001b[0;31m \u001b[0mdf\u001b[0m\u001b[0;34m.\u001b[0m\u001b[0mtitleUrl\u001b[0m\u001b[0;34m.\u001b[0m\u001b[0mfillna\u001b[0m\u001b[0;34m(\u001b[0m\u001b[0mvalue\u001b[0m\u001b[0;34m=\u001b[0m\u001b[0;34m''\u001b[0m\u001b[0;34m,\u001b[0m \u001b[0minplace\u001b[0m\u001b[0;34m=\u001b[0m\u001b[0;32mTrue\u001b[0m\u001b[0;34m)\u001b[0m\u001b[0;34m\u001b[0m\u001b[0;34m\u001b[0m\u001b[0m\n\u001b[0m\u001b[1;32m      2\u001b[0m \u001b[0mdf\u001b[0m \u001b[0;34m=\u001b[0m \u001b[0mdf\u001b[0m\u001b[0;34m[\u001b[0m\u001b[0mdf\u001b[0m\u001b[0;34m.\u001b[0m\u001b[0mtitleUrl\u001b[0m \u001b[0;34m!=\u001b[0m \u001b[0;34m''\u001b[0m\u001b[0;34m]\u001b[0m\u001b[0;34m\u001b[0m\u001b[0;34m\u001b[0m\u001b[0m\n",
            "\u001b[0;31mNameError\u001b[0m: name 'df' is not defined"
          ]
        }
      ]
    },
    {
      "cell_type": "code",
      "metadata": {
        "id": "agZCFTjo-eUS"
      },
      "source": [
        "categories = pd.read_csv('https://gist.githubusercontent.com/Vithork/7e9d0fe79796e4cfd27411d5e92df601/raw/c943eafd695f123bc0e5fc5167846e2fa4265fbc/csv')\n",
        "categories = categories.set_index('name').number.to_dict()\n",
        "categories = dict((str(y),x) for x,y in categories.items())"
      ],
      "execution_count": null,
      "outputs": []
    },
    {
      "cell_type": "code",
      "metadata": {
        "id": "ubGW6GNb-lkh"
      },
      "source": [
        "def main(api_key, df):\n",
        "  def puxa_categoria():\n",
        "    lista = puxa_json()\n",
        "    lista_categorias = []\n",
        "    for i in range(len(lista)):\n",
        "      try:\n",
        "        lista_categorias.append(lista[i]['items'][0]['snippet']['categoryId'])\n",
        "      except:\n",
        "        lista_categorias.append('00')\n",
        "    return [categories.get(n, n) for n in lista_categorias]\n",
        "  \n",
        "  def puxa_json():\n",
        "    youtube = build('youtube', 'v3', developerKey=api_key)\n",
        "    part_string = 'snippet'\n",
        "    lista = []\n",
        "    video_ids = 0 \n",
        "    for index, row in df.iterrows():\n",
        "      video_ids = (row['titleUrl'][-11:])\n",
        "      requests = youtube.videos().list(\n",
        "        \tpart=part_string,\n",
        "        \tid=video_ids\n",
        "        ).execute()\n",
        "      lista.append(requests)\n",
        "    return lista\n",
        "  return puxa_categoria()"
      ],
      "execution_count": null,
      "outputs": []
    },
    {
      "cell_type": "code",
      "metadata": {
        "id": "CLJ_ymxm-zoH"
      },
      "source": [
        "#categoria_valores = main('API',df)"
      ],
      "execution_count": null,
      "outputs": []
    },
    {
      "cell_type": "code",
      "metadata": {
        "id": "nvA79ijRAYFJ"
      },
      "source": [
        "#df['categories'] = categoria_valores"
      ],
      "execution_count": null,
      "outputs": []
    },
    {
      "cell_type": "markdown",
      "metadata": {
        "id": "oV1sfjO6Gy5e"
      },
      "source": [
        "## **Dados YouTube - Limpeza + Análise**"
      ]
    },
    {
      "cell_type": "markdown",
      "metadata": {
        "id": "kOSioRZLZmsm"
      },
      "source": [
        "##### Fazendo a leitura do csv com as categorias"
      ]
    },
    {
      "cell_type": "code",
      "metadata": {
        "id": "MA1pfHjuCvRY"
      },
      "source": [
        "df = pd.read_csv('/content/drive/MyDrive/Colab Notebooks/youtube_cate.csv',encoding='utf-8')"
      ],
      "execution_count": null,
      "outputs": []
    },
    {
      "cell_type": "code",
      "metadata": {
        "id": "0Ce4Gi7i7YI6"
      },
      "source": [
        "#from google.colab import drive\n",
        "#drive.mount('/content/drive')"
      ],
      "execution_count": null,
      "outputs": []
    },
    {
      "cell_type": "code",
      "metadata": {
        "id": "J0HUknJU7z6Q"
      },
      "source": [
        "#with open('/content/drive/MyDrive/Colab Notebooks/historico_vizualizacao.json','r', encoding='utf-8') as f:  \n",
        "    #data = json.loads(f.read())"
      ],
      "execution_count": null,
      "outputs": []
    },
    {
      "cell_type": "code",
      "metadata": {
        "id": "P0uRsCPaiQM-"
      },
      "source": [
        "#no_ads_data = [row for row in data if 'subtitles' in row.keys()]"
      ],
      "execution_count": null,
      "outputs": []
    },
    {
      "cell_type": "code",
      "metadata": {
        "id": "5W6vU5Oj775T"
      },
      "source": [
        "#df = pd.json_normalize(no_ads_data, \n",
        "                       #record_path=['subtitles'], \n",
        "                       #meta=['header', 'title', 'titleUrl', 'time', 'products', 'details'],\n",
        "                       #errors='ignore',\n",
        "                       #record_prefix='subtitles.'\n",
        "                     #)"
      ],
      "execution_count": null,
      "outputs": []
    },
    {
      "cell_type": "code",
      "metadata": {
        "id": "0kcwN-t-D2jP"
      },
      "source": [
        "#df.head()"
      ],
      "execution_count": null,
      "outputs": []
    },
    {
      "cell_type": "code",
      "metadata": {
        "id": "kfWc7hP8EJs-",
        "colab": {
          "base_uri": "https://localhost:8080/"
        },
        "outputId": "666b602e-1a2b-406b-a1b8-b83462da03f8"
      },
      "source": [
        "df.info()"
      ],
      "execution_count": null,
      "outputs": [
        {
          "output_type": "stream",
          "text": [
            "<class 'pandas.core.frame.DataFrame'>\n",
            "RangeIndex: 7528 entries, 0 to 7527\n",
            "Data columns (total 10 columns):\n",
            " #   Column          Non-Null Count  Dtype  \n",
            "---  ------          --------------  -----  \n",
            " 0   Unnamed: 0      7528 non-null   int64  \n",
            " 1   subtitles.name  7528 non-null   object \n",
            " 2   subtitles.url   7528 non-null   object \n",
            " 3   header          7528 non-null   object \n",
            " 4   title           7528 non-null   object \n",
            " 5   titleUrl        7528 non-null   object \n",
            " 6   time            7528 non-null   object \n",
            " 7   products        7528 non-null   object \n",
            " 8   details         0 non-null      float64\n",
            " 9   categories      7528 non-null   object \n",
            "dtypes: float64(1), int64(1), object(8)\n",
            "memory usage: 588.2+ KB\n"
          ],
          "name": "stdout"
        }
      ]
    },
    {
      "cell_type": "markdown",
      "metadata": {
        "id": "ScQXB4i3lOFQ"
      },
      "source": [
        "##### **Renomeando Colunas**"
      ]
    },
    {
      "cell_type": "code",
      "metadata": {
        "id": "TfUcvxUOjGon"
      },
      "source": [
        "df.rename(columns={'subtitles.name': 'chanel', 'subtitles.url': 'chanelUrl'}, inplace=True)"
      ],
      "execution_count": null,
      "outputs": []
    },
    {
      "cell_type": "markdown",
      "metadata": {
        "id": "f2E1kiRiZy_a"
      },
      "source": [
        "##### Respondendo as perguntas com os dados"
      ]
    },
    {
      "cell_type": "markdown",
      "metadata": {
        "id": "mQQFGT0fHReP"
      },
      "source": [
        "#### **Quais canais Juliana mais assistiu vídeo?**\n"
      ]
    },
    {
      "cell_type": "code",
      "metadata": {
        "colab": {
          "base_uri": "https://localhost:8080/"
        },
        "id": "owGg-2oJjLoy",
        "outputId": "04d7d06b-0b20-414d-a318-54614503d205"
      },
      "source": [
        "df.chanel.value_counts().head(10)"
      ],
      "execution_count": null,
      "outputs": [
        {
          "output_type": "execute_result",
          "data": {
            "text/plain": [
              "AM3NlC                 738\n",
              "Canal dos Caçadores    574\n",
              "MasterChef Brasil      413\n",
              "Rio4fun                230\n",
              "MK MUSIC               223\n",
              "Prefiro Viajar         159\n",
              "Canal GNT              125\n",
              "EduKof                 125\n",
              "NatirutsVEVO            83\n",
              "Pesadelo na Cozinha     75\n",
              "Name: chanel, dtype: int64"
            ]
          },
          "metadata": {
            "tags": []
          },
          "execution_count": 10
        }
      ]
    },
    {
      "cell_type": "code",
      "metadata": {
        "id": "qmgWN1vTMTph"
      },
      "source": [
        "df.to_csv('canais.csv')"
      ],
      "execution_count": null,
      "outputs": []
    },
    {
      "cell_type": "markdown",
      "metadata": {
        "id": "i6oABDsTHpnU"
      },
      "source": [
        "#### **Quais categorias Juliana mais assiste?**"
      ]
    },
    {
      "cell_type": "code",
      "metadata": {
        "colab": {
          "base_uri": "https://localhost:8080/"
        },
        "id": "X_gO3pVZGbJW",
        "outputId": "e4b4f20e-0f80-4e06-aaab-440f4c8b0066"
      },
      "source": [
        "df.categories.value_counts().head(4)"
      ],
      "execution_count": null,
      "outputs": [
        {
          "output_type": "execute_result",
          "data": {
            "text/plain": [
              "Music              2366\n",
              "Entertainment      2026\n",
              "People & Blogs     1493\n",
              "Travel & Events     681\n",
              "Name: categories, dtype: int64"
            ]
          },
          "metadata": {
            "tags": []
          },
          "execution_count": 11
        }
      ]
    },
    {
      "cell_type": "markdown",
      "metadata": {
        "id": "vAmu0lsYH5OC"
      },
      "source": [
        "#### **WordCloud**"
      ]
    },
    {
      "cell_type": "code",
      "metadata": {
        "id": "hVj33N1uywYb"
      },
      "source": [
        "df['title'].to_csv('hist_youtube_views.txt', sep=' ', index=False)"
      ],
      "execution_count": null,
      "outputs": []
    },
    {
      "cell_type": "code",
      "metadata": {
        "colab": {
          "base_uri": "https://localhost:8080/"
        },
        "id": "IYhEzaBEG6E7",
        "outputId": "94637242-344d-4c84-d9f9-021d47ccce40"
      },
      "source": [
        "!pip install wordcloud"
      ],
      "execution_count": null,
      "outputs": [
        {
          "output_type": "stream",
          "text": [
            "Requirement already satisfied: wordcloud in /usr/local/lib/python3.7/dist-packages (1.5.0)\n",
            "Requirement already satisfied: numpy>=1.6.1 in /usr/local/lib/python3.7/dist-packages (from wordcloud) (1.19.5)\n",
            "Requirement already satisfied: pillow in /usr/local/lib/python3.7/dist-packages (from wordcloud) (7.1.2)\n"
          ],
          "name": "stdout"
        }
      ]
    },
    {
      "cell_type": "code",
      "metadata": {
        "colab": {
          "base_uri": "https://localhost:8080/",
          "height": 537
        },
        "id": "LenZaSyaHF5N",
        "outputId": "9f7830d5-ffef-4817-ada7-920b6b50e232"
      },
      "source": [
        "from wordcloud import WordCloud, STOPWORDS\n",
        "import matplotlib\n",
        "import matplotlib.pyplot as plt\n",
        "\n",
        "%matplotlib inline\n",
        "matplotlib.rcParams['figure.figsize'] = (16.0, 9.0)\n",
        "# Reading the script\n",
        "script = open(\"hist_youtube_views.txt\", encoding='utf-8').read()\n",
        "# Set of Stop words\n",
        "stopwords = set(STOPWORDS)\n",
        "stopwords.add('Nova Guia')\n",
        "stopwords.add('Nova guia')\n",
        "stopwords.add('De')\n",
        "stopwords.add('Watched')\n",
        "stopwords.add('A')\n",
        "stopwords.add(\"EduKof\")\n",
        "# Create WordCloud Object\n",
        "wc = WordCloud(background_color=\"white\", stopwords=stopwords, \n",
        "               width=1600, height=900, colormap=matplotlib.cm.inferno)\n",
        "# Generate WordCloud\n",
        "wc.generate(script)\n",
        "# Show the WordCloud\n",
        "plt.figure()\n",
        "plt.imshow(wc, interpolation=\"bilinear\")\n",
        "plt.axis(\"off\")"
      ],
      "execution_count": null,
      "outputs": [
        {
          "output_type": "execute_result",
          "data": {
            "text/plain": [
              "(-0.5, 1599.5, 899.5, -0.5)"
            ]
          },
          "metadata": {
            "tags": []
          },
          "execution_count": 94
        },
        {
          "output_type": "display_data",
          "data": {
            "image/png": "[encoded data removed]",
            "text/plain": [
              "<Figure size 1152x648 with 1 Axes>"
            ]
          },
          "metadata": {
            "tags": [],
            "needs_background": "light"
          }
        }
      ]
    },
    {
      "cell_type": "code",
      "metadata": {
        "id": "3-dQyg84kivs"
      },
      "source": [
        "df['time'] = pd.to_datetime(df['time'])\n",
        "df.time.dt.year.unique()\n"
      ],
      "execution_count": null,
      "outputs": []
    },
    {
      "cell_type": "markdown",
      "metadata": {
        "id": "pQMwhJQzSuws"
      },
      "source": [
        "#### **Quantos vídeos Juliana viu por categoria?**"
      ]
    },
    {
      "cell_type": "code",
      "metadata": {
        "colab": {
          "base_uri": "https://localhost:8080/",
          "height": 359
        },
        "id": "84NYl8hsXbq5",
        "outputId": "2cbe4b27-9be5-4385-c5fe-f0b6dc64a50d"
      },
      "source": [
        "grp_cat =df.groupby(['chanel','categories'], as_index=False).size()\n",
        "grp_cat.head(10)"
      ],
      "execution_count": null,
      "outputs": [
        {
          "output_type": "execute_result",
          "data": {
            "text/html": [
              "<div>\n",
              "<style scoped>\n",
              "    .dataframe tbody tr th:only-of-type {\n",
              "        vertical-align: middle;\n",
              "    }\n",
              "\n",
              "    .dataframe tbody tr th {\n",
              "        vertical-align: top;\n",
              "    }\n",
              "\n",
              "    .dataframe thead th {\n",
              "        text-align: right;\n",
              "    }\n",
              "</style>\n",
              "<table border=\"1\" class=\"dataframe\">\n",
              "  <thead>\n",
              "    <tr style=\"text-align: right;\">\n",
              "      <th></th>\n",
              "      <th>chanel</th>\n",
              "      <th>categories</th>\n",
              "      <th>size</th>\n",
              "    </tr>\n",
              "  </thead>\n",
              "  <tbody>\n",
              "    <tr>\n",
              "      <th>0</th>\n",
              "      <td>- RMG -</td>\n",
              "      <td>People &amp; Blogs</td>\n",
              "      <td>1</td>\n",
              "    </tr>\n",
              "    <tr>\n",
              "      <th>1</th>\n",
              "      <td>1 por Todos</td>\n",
              "      <td>Entertainment</td>\n",
              "      <td>1</td>\n",
              "    </tr>\n",
              "    <tr>\n",
              "      <th>2</th>\n",
              "      <td>101K</td>\n",
              "      <td>Music</td>\n",
              "      <td>1</td>\n",
              "    </tr>\n",
              "    <tr>\n",
              "      <th>3</th>\n",
              "      <td>157nene59</td>\n",
              "      <td>Music</td>\n",
              "      <td>1</td>\n",
              "    </tr>\n",
              "    <tr>\n",
              "      <th>4</th>\n",
              "      <td>1FOX</td>\n",
              "      <td>Music</td>\n",
              "      <td>1</td>\n",
              "    </tr>\n",
              "    <tr>\n",
              "      <th>5</th>\n",
              "      <td>1MILLION Dance Studio</td>\n",
              "      <td>Entertainment</td>\n",
              "      <td>2</td>\n",
              "    </tr>\n",
              "    <tr>\n",
              "      <th>6</th>\n",
              "      <td>2M TALIBÃ ϟ</td>\n",
              "      <td>Music</td>\n",
              "      <td>1</td>\n",
              "    </tr>\n",
              "    <tr>\n",
              "      <th>7</th>\n",
              "      <td>30PRAUM</td>\n",
              "      <td>Music</td>\n",
              "      <td>15</td>\n",
              "    </tr>\n",
              "    <tr>\n",
              "      <th>8</th>\n",
              "      <td>360go</td>\n",
              "      <td>Travel &amp; Events</td>\n",
              "      <td>1</td>\n",
              "    </tr>\n",
              "    <tr>\n",
              "      <th>9</th>\n",
              "      <td>3DURLZ</td>\n",
              "      <td>Music</td>\n",
              "      <td>1</td>\n",
              "    </tr>\n",
              "  </tbody>\n",
              "</table>\n",
              "</div>"
            ],
            "text/plain": [
              "                  chanel       categories  size\n",
              "0                - RMG -   People & Blogs     1\n",
              "1            1 por Todos    Entertainment     1\n",
              "2                   101K            Music     1\n",
              "3              157nene59            Music     1\n",
              "4                   1FOX            Music     1\n",
              "5  1MILLION Dance Studio    Entertainment     2\n",
              "6            2M TALIBÃ ϟ            Music     1\n",
              "7                30PRAUM            Music    15\n",
              "8                  360go  Travel & Events     1\n",
              "9                 3DURLZ            Music     1"
            ]
          },
          "metadata": {
            "tags": []
          },
          "execution_count": 12
        }
      ]
    },
    {
      "cell_type": "code",
      "metadata": {
        "colab": {
          "base_uri": "https://localhost:8080/",
          "height": 542
        },
        "id": "s5lf50e5WkJj",
        "outputId": "b6a18c77-e9e8-4e7d-c9d9-a5f5a4e4e655"
      },
      "source": [
        "grp_cat.plot(\n",
        "kind='barh', \n",
        "    x='size', \n",
        "    y= 'categories',  \n",
        "    barmode='group',\n",
        "    title='Número dos vídeos assistidos por categoria')"
      ],
      "execution_count": null,
      "outputs": [
        {
          "output_type": "display_data",
          "data": {
            "text/html": [
              "<html>\n",
              "<head><meta charset=\"utf-8\" /></head>\n",
              "<body>\n",
              "    <div>            <script src=\"https://cdnjs.cloudflare.com/ajax/libs/mathjax/2.7.5/MathJax.js?config=TeX-AMS-MML_SVG\"></script><script type=\"text/javascript\">if (window.MathJax) {MathJax.Hub.Config({SVG: {font: \"STIX-Web\"}});}</script>                <script type=\"text/javascript\">window.PlotlyConfig = {MathJaxConfig: 'local'};</script>\n",
              "        <script src=\"https://cdn.plot.ly/plotly-2.2.0.min.js\"></script>                <div id=\"1af508db-594a-4cf3-be6e-5878a0425083\" class=\"plotly-graph-div\" style=\"height:525px; width:100%;\"></div>            <script type=\"text/javascript\">                                    window.PLOTLYENV=window.PLOTLYENV || {};                                    if (document.getElementById(\"1af508db-594a-4cf3-be6e-5878a0425083\")) {                    Plotly.newPlot(                        \"1af508db-594a-4cf3-be6e-5878a0425083\",                        [{\"alignmentgroup\":\"True\",\"hovertemplate\":\"size=%{x}<br>categories=%{y}<extra></extra>\",\"legendgroup\":\"\",\"marker\":{\"color\":\"#636efa\",\"pattern\":{\"shape\":\"\"}},\"name\":\"\",\"offsetgroup\":\"\",\"orientation\":\"h\",\"showlegend\":false,\"textposition\":\"auto\",\"type\":\"bar\",\"x\":[1,1,1,1,1,2,1,15,1,1,1,1,4,1,1,1,2,1,1,1,2,1,1,1,2,1,2,2,1,2,2,52,48,624,2,2,8,1,1,1,1,1,6,1,1,1,1,1,1,1,1,1,1,11,3,1,1,1,1,2,1,1,1,1,1,2,1,1,1,1,8,1,1,2,1,1,1,2,1,24,1,3,6,1,4,1,1,1,1,1,1,1,2,1,3,1,1,40,1,1,2,1,1,1,3,1,1,1,1,1,1,14,2,1,1,2,1,1,3,2,1,1,1,1,1,6,1,2,1,1,1,1,1,2,2,3,1,8,1,1,1,1,1,3,1,1,1,2,1,1,1,1,2,1,1,2,1,1,29,10,4,2,3,1,1,1,1,1,1,2,1,1,1,1,2,1,8,1,1,1,1,1,18,1,1,5,1,1,1,1,1,2,1,1,1,1,1,1,1,18,1,1,1,1,1,1,1,1,1,2,1,2,1,1,1,1,7,1,2,5,7,1,1,1,1,1,1,1,1,1,1,1,8,1,6,1,3,2,1,1,1,6,1,4,1,1,1,1,1,1,2,1,2,1,4,1,2,1,1,1,1,1,1,2,124,1,5,1,2,3,3,1,574,1,1,5,4,2,12,2,14,1,1,30,1,1,1,1,1,1,3,1,1,24,5,3,7,2,1,1,2,1,1,1,5,1,3,2,1,1,1,1,1,2,1,2,1,2,1,1,3,1,5,2,1,1,1,1,1,1,1,1,1,1,6,2,1,1,1,1,1,2,1,1,2,1,1,1,2,3,1,1,1,1,3,1,1,1,1,1,1,1,2,1,1,1,1,1,1,2,2,1,38,12,1,1,1,4,1,4,1,1,1,1,2,1,1,1,4,2,1,1,1,1,9,1,2,1,1,1,1,2,1,1,1,1,1,1,3,3,1,1,1,5,4,1,1,1,4,1,5,4,2,1,1,1,1,1,1,1,1,1,1,1,1,1,1,2,3,1,1,1,1,1,4,1,1,1,7,2,1,1,1,2,1,37,3,13,2,1,1,1,1,1,1,6,1,1,1,2,1,1,4,1,1,5,1,3,1,4,1,2,1,1,1,3,1,4,1,1,1,2,25,1,1,1,2,1,1,1,1,3,122,2,1,1,1,1,1,1,1,5,52,1,1,2,1,2,1,1,1,2,1,1,1,1,1,2,1,1,1,1,1,1,1,1,2,1,1,1,1,7,1,1,1,13,18,1,1,1,2,1,2,1,1,2,1,1,1,1,4,1,1,1,2,1,1,1,1,1,2,1,1,1,1,1,1,2,3,1,1,3,1,13,1,1,3,1,1,1,1,1,2,1,1,1,21,1,1,2,1,1,1,3,1,2,1,1,59,7,3,1,31,4,2,11,45,3,1,14,1,4,1,1,4,1,23,1,1,6,1,16,2,1,1,1,1,1,1,1,1,1,1,3,2,1,1,2,1,1,2,39,1,1,1,1,3,1,1,1,6,1,1,1,1,1,1,1,8,1,5,1,1,3,4,1,1,2,1,1,1,1,2,1,4,1,8,34,4,1,1,2,10,1,6,1,1,2,2,1,1,1,1,2,1,1,1,1,2,5,10,1,6,1,1,1,1,2,1,1,1,2,1,8,2,1,3,1,22,2,1,1,1,3,2,1,1,1,2,1,2,1,1,5,1,5,3,3,1,2,1,1,1,1,8,1,3,2,1,1,7,1,1,1,1,1,1,1,2,1,1,1,1,1,1,5,2,1,2,1,2,2,2,1,1,1,1,1,2,1,1,2,1,1,1,3,1,3,3,1,1,3,1,1,1,1,2,32,1,1,2,4,1,1,3,1,1,2,1,1,3,2,1,3,16,1,1,1,5,3,1,1,7,1,3,1,1,1,1,1,3,1,1,3,2,1,1,2,1,2,1,1,1,1,2,1,1,2,1,1,2,2,1,6,1,1,8,1,10,2,2,1,1,3,1,1,2,1,1,1,1,3,1,1,1,5,1,7,1,4,1,1,1,1,1,5,1,9,1,1,1,16,1,1,1,1,1,13,1,2,1,1,2,2,1,1,1,1,1,1,8,2,1,1,1,1,1,3,1,1,2,9,1,2,1,1,4,3,1,6,2,1,1,1,1,1,8,1,2,1,1,1,1,1,4,1,13,1,1,7,1,1,1,6,1,2,6,2,1,1,1,4,2,1,1,2,1,1,1,10,1,2,2,2,1,1,1,1,2,1,3,1,1,1,1,1,1,1,1,1,2,1,1,1,2,9,1,4,1,223,1,1,1,1,1,2,1,1,1,3,7,1,1,2,1,2,1,1,1,2,3,9,1,2,5,1,1,1,1,1,3,1,1,1,1,1,1,12,1,1,1,1,1,2,1,2,1,1,1,3,1,29,1,413,1,1,1,1,1,1,1,5,29,1,2,1,1,1,1,1,1,1,1,1,1,1,5,1,4,1,1,10,2,4,6,1,1,2,1,1,14,1,1,1,1,1,1,1,1,17,1,1,2,1,3,1,9,1,1,1,1,1,1,1,1,3,1,1,3,2,1,1,1,1,1,1,1,1,7,1,1,1,3,2,1,5,2,5,1,1,1,1,1,1,1,1,1,1,1,1,1,2,5,4,2,7,2,1,1,1,1,1,1,21,1,1,4,1,1,2,1,1,1,4,1,1,1,83,1,1,1,1,1,1,1,2,2,1,1,1,3,19,1,5,1,1,1,2,1,1,1,1,2,1,1,1,1,17,4,3,2,4,1,1,1,21,8,3,15,8,1,1,1,5,3,16,1,1,1,1,1,1,1,2,1,1,1,7,2,1,1,1,1,1,2,1,1,3,3,13,2,1,7,1,1,1,1,1,1,5,3,1,1,3,1,1,47,12,1,1,1,1,1,2,1,2,1,2,1,4,1,1,1,1,1,1,3,1,1,1,3,1,1,1,2,1,75,1,1,1,1,2,9,1,1,1,1,1,1,1,1,1,1,6,1,2,1,1,1,11,2,1,1,29,1,3,1,3,155,1,38,1,1,1,1,7,1,5,21,3,1,1,1,2,2,11,3,1,2,1,1,2,1,1,1,1,1,2,1,1,1,5,1,1,2,1,1,1,2,1,1,1,1,1,1,1,1,2,1,1,2,1,1,1,2,1,8,1,5,2,1,2,2,1,1,1,1,29,10,6,1,1,1,2,1,22,2,4,2,5,8,2,1,1,2,2,8,1,2,1,1,1,1,1,2,1,1,1,3,6,1,1,1,1,1,1,1,1,1,1,1,4,230,1,4,2,1,2,1,1,5,1,1,1,2,1,1,1,5,1,1,1,1,1,1,1,22,1,1,1,1,1,1,1,1,1,2,1,1,1,1,1,1,1,1,1,2,1,1,1,1,1,1,1,1,4,1,1,1,1,5,1,2,1,4,1,1,1,1,2,2,1,1,21,1,1,2,3,1,1,6,1,1,3,2,3,1,1,1,3,1,7,5,1,1,1,3,1,1,2,3,2,1,3,5,1,1,1,1,1,1,1,1,5,1,1,4,1,1,9,1,1,6,2,1,1,2,7,1,1,1,3,2,1,1,1,1,2,1,2,1,14,34,2,2,1,1,1,1,1,1,1,3,1,3,4,1,1,2,1,6,1,8,1,3,1,1,1,1,1,1,1,1,1,1,1,1,1,5,1,1,2,1,1,2,4,1,3,1,1,1,1,7,4,1,3,1,1,1,1,1,3,1,6,1,1,1,5,1,2,1,1,1,1,4,2,5,2,2,1,4,1,9,3,1,2,3,1,8,3,1,1,1,1,3,2,1,2,1,1,1,3,7,1,1,2,1,1,1,9,3,4,1,1,2,1,1,1,1,2,1,1,7,1,1,16,3,1,1,1,1,1,3,1,1,5,1,1,1,6,11,3,2,3,1,2,1,1,1,1,1,1,1,1,1,1,1,1,2,2,3,1,3,13,3,1,1,1,1,1,3,19,3,14,1,1,1,1,14,7,1,1,1,3,8,1,1,1,1,22,2,1,1,3,2,2,1,1,1,5,2,1,2,2,4,1,1,1,1,17,1,1,1,1,1,4,1,1,1,1,2,1,1,1,1,1,1,1,1,1,1,1,1,1,1,1,1,1,1,1,2,2,1,1,1,1,1,1,1,1,1,3,1,1,1,1,1,2,1,2,1,1,1,1,1,1,1,1,1,2,4,1,1,1,1,1,1,1,2,1,1,1,1,2,1,1,1,1,1,1,3,1,1,2,1,1,2,1,1,1,1,5,1,1,2,1,1,1,1,1,1,1,1,2,3,1,1,6,1,1,1,1,4,1,1,1,1,1,1,2,1,1,2,1,1,1,1,1,1,1,1,15,1,1,2,1,4,3,1,7,2,1,1,18,4,1,1,2,1,1,1,1,1],\"xaxis\":\"x\",\"y\":[\"People & Blogs\",\"Entertainment\",\"Music\",\"Music\",\"Music\",\"Entertainment\",\"Music\",\"Music\",\"Travel & Events\",\"Music\",\"Film & Animation\",\"Howto & Style\",\"Music\",\"Music\",\"Music\",\"People & Blogs\",\"Music\",\"Music\",\"People & Blogs\",\"Music\",\"Howto & Style\",\"Travel & Events\",\"People & Blogs\",\"Travel & Events\",\"Film & Animation\",\"Music\",\"People & Blogs\",\"Music\",\"Science & Technology\",\"Music\",\"Autos & Vehicles\",\"Entertainment\",\"Gaming\",\"People & Blogs\",\"Science & Technology\",\"Sports\",\"Travel & Events\",\"People & Blogs\",\"Pets & Animals\",\"People & Blogs\",\"Entertainment\",\"Film & Animation\",\"News & Politics\",\"Entertainment\",\"Music\",\"People & Blogs\",\"Education\",\"Education\",\"People & Blogs\",\"Music\",\"Education\",\"Music\",\"Science & Technology\",\"Entertainment\",\"Gaming\",\"Music\",\"Music\",\"People & Blogs\",\"People & Blogs\",\"Music\",\"Music\",\"Music\",\"Music\",\"Music\",\"Music\",\"Music\",\"Music\",\"Music\",\"Music\",\"Music\",\"Music\",\"Entertainment\",\"Science & Technology\",\"Music\",\"Science & Technology\",\"Music\",\"Entertainment\",\"Music\",\"Music\",\"People & Blogs\",\"Howto & Style\",\"Science & Technology\",\"People & Blogs\",\"Travel & Events\",\"Music\",\"Music\",\"People & Blogs\",\"Music\",\"Music\",\"Music\",\"Music\",\"People & Blogs\",\"People & Blogs\",\"People & Blogs\",\"Music\",\"Education\",\"Music\",\"Music\",\"Music\",\"Entertainment\",\"Music\",\"Music\",\"Entertainment\",\"Entertainment\",\"Science & Technology\",\"Music\",\"People & Blogs\",\"Education\",\"People & Blogs\",\"Travel & Events\",\"Education\",\"Music\",\"Entertainment\",\"Music\",\"Music\",\"Music\",\"Entertainment\",\"People & Blogs\",\"Entertainment\",\"Entertainment\",\"Music\",\"Education\",\"Gaming\",\"People & Blogs\",\"Entertainment\",\"People & Blogs\",\"Music\",\"Music\",\"Science & Technology\",\"Music\",\"Music\",\"Music\",\"Education\",\"Education\",\"Music\",\"Music\",\"Music\",\"People & Blogs\",\"People & Blogs\",\"Entertainment\",\"Music\",\"Entertainment\",\"Science & Technology\",\"People & Blogs\",\"Entertainment\",\"Entertainment\",\"Entertainment\",\"Music\",\"Music\",\"People & Blogs\",\"Entertainment\",\"Education\",\"Entertainment\",\"Music\",\"People & Blogs\",\"News & Politics\",\"News & Politics\",\"Entertainment\",\"People & Blogs\",\"Music\",\"Education\",\"Music\",\"Science & Technology\",\"People & Blogs\",\"Music\",\"Music\",\"Music\",\"Travel & Events\",\"Music\",\"Science & Technology\",\"Entertainment\",\"People & Blogs\",\"People & Blogs\",\"Music\",\"People & Blogs\",\"Music\",\"Music\",\"Music\",\"Entertainment\",\"Entertainment\",\"Music\",\"People & Blogs\",\"Music\",\"People & Blogs\",\"Music\",\"People & Blogs\",\"People & Blogs\",\"Howto & Style\",\"People & Blogs\",\"Music\",\"Music\",\"People & Blogs\",\"Music\",\"People & Blogs\",\"People & Blogs\",\"Music\",\"Entertainment\",\"Music\",\"Film & Animation\",\"Music\",\"Music\",\"People & Blogs\",\"Howto & Style\",\"Entertainment\",\"Entertainment\",\"Entertainment\",\"Music\",\"People & Blogs\",\"Entertainment\",\"Music\",\"Music\",\"Entertainment\",\"Travel & Events\",\"People & Blogs\",\"Music\",\"Entertainment\",\"Music\",\"People & Blogs\",\"Music\",\"People & Blogs\",\"Entertainment\",\"People & Blogs\",\"Travel & Events\",\"Music\",\"Education\",\"Pets & Animals\",\"Entertainment\",\"People & Blogs\",\"Music\",\"Music\",\"Entertainment\",\"Entertainment\",\"Entertainment\",\"Music\",\"Music\",\"People & Blogs\",\"Music\",\"Music\",\"People & Blogs\",\"Music\",\"People & Blogs\",\"Music\",\"Film & Animation\",\"People & Blogs\",\"Music\",\"People & Blogs\",\"Music\",\"Education\",\"People & Blogs\",\"Education\",\"People & Blogs\",\"Film & Animation\",\"Music\",\"Pets & Animals\",\"Entertainment\",\"00\",\"Music\",\"00\",\"News & Politics\",\"Entertainment\",\"Entertainment\",\"Music\",\"Entertainment\",\"Entertainment\",\"Entertainment\",\"People & Blogs\",\"Music\",\"Entertainment\",\"Howto & Style\",\"Entertainment\",\"People & Blogs\",\"Entertainment\",\"Entertainment\",\"Science & Technology\",\"Autos & Vehicles\",\"Music\",\"Travel & Events\",\"People & Blogs\",\"Entertainment\",\"Howto & Style\",\"Travel & Events\",\"Entertainment\",\"00\",\"Entertainment\",\"People & Blogs\",\"Music\",\"Entertainment\",\"People & Blogs\",\"Howto & Style\",\"People & Blogs\",\"Music\",\"People & Blogs\",\"Pets & Animals\",\"Travel & Events\",\"People & Blogs\",\"Entertainment\",\"Music\",\"Music\",\"Music\",\"Music\",\"People & Blogs\",\"00\",\"Film & Animation\",\"News & Politics\",\"Music\",\"Music\",\"Education\",\"Music\",\"Education\",\"Music\",\"Pets & Animals\",\"Education\",\"People & Blogs\",\"Entertainment\",\"Music\",\"Music\",\"People & Blogs\",\"Music\",\"Music\",\"Music\",\"Music\",\"Music\",\"People & Blogs\",\"Music\",\"Music\",\"People & Blogs\",\"People & Blogs\",\"People & Blogs\",\"Film & Animation\",\"People & Blogs\",\"People & Blogs\",\"People & Blogs\",\"People & Blogs\",\"People & Blogs\",\"Music\",\"Music\",\"Music\",\"People & Blogs\",\"Entertainment\",\"Education\",\"Film & Animation\",\"Music\",\"Music\",\"Music\",\"Music\",\"Education\",\"Education\",\"Travel & Events\",\"Film & Animation\",\"Music\",\"Education\",\"Education\",\"Entertainment\",\"Science & Technology\",\"People & Blogs\",\"People & Blogs\",\"People & Blogs\",\"Education\",\"People & Blogs\",\"News & Politics\",\"Howto & Style\",\"Music\",\"People & Blogs\",\"Education\",\"People & Blogs\",\"Music\",\"People & Blogs\",\"Gaming\",\"People & Blogs\",\"Music\",\"Music\",\"Entertainment\",\"Howto & Style\",\"Education\",\"23\",\"Film & Animation\",\"Entertainment\",\"Science & Technology\",\"Music\",\"Music\",\"Music\",\"Music\",\"Entertainment\",\"Music\",\"Music\",\"Music\",\"People & Blogs\",\"Music\",\"Music\",\"Music\",\"Entertainment\",\"Music\",\"Music\",\"Entertainment\",\"Music\",\"Music\",\"23\",\"Music\",\"Music\",\"People & Blogs\",\"Education\",\"Music\",\"Nonprofits &Activism\",\"Education\",\"Entertainment\",\"People & Blogs\",\"Entertainment\",\"Entertainment\",\"Education\",\"Science & Technology\",\"Education\",\"Music\",\"23\",\"Entertainment\",\"Howto & Style\",\"Music\",\"People & Blogs\",\"Entertainment\",\"Nonprofits &Activism\",\"Howto & Style\",\"Entertainment\",\"Music\",\"People & Blogs\",\"Music\",\"Music\",\"People & Blogs\",\"Travel & Events\",\"Music\",\"Music\",\"Music\",\"Education\",\"Sports\",\"People & Blogs\",\"Film & Animation\",\"Music\",\"Music\",\"Entertainment\",\"Science & Technology\",\"23\",\"Education\",\"Science & Technology\",\"Music\",\"Music\",\"News & Politics\",\"Entertainment\",\"Entertainment\",\"Science & Technology\",\"Nonprofits &Activism\",\"Music\",\"People & Blogs\",\"People & Blogs\",\"Science & Technology\",\"People & Blogs\",\"Music\",\"Sports\",\"23\",\"People & Blogs\",\"Music\",\"23\",\"Music\",\"People & Blogs\",\"Music\",\"People & Blogs\",\"People & Blogs\",\"Music\",\"Music\",\"Travel & Events\",\"Travel & Events\",\"Entertainment\",\"Entertainment\",\"Music\",\"Music\",\"Music\",\"Music\",\"Music\",\"Music\",\"Entertainment\",\"People & Blogs\",\"Music\",\"Music\",\"Science & Technology\",\"Education\",\"Music\",\"Entertainment\",\"People & Blogs\",\"Music\",\"Music\",\"Education\",\"People & Blogs\",\"People & Blogs\",\"Education\",\"Music\",\"Entertainment\",\"Nonprofits &Activism\",\"Music\",\"Music\",\"People & Blogs\",\"People & Blogs\",\"People & Blogs\",\"People & Blogs\",\"Music\",\"Entertainment\",\"Gaming\",\"Education\",\"Film & Animation\",\"People & Blogs\",\"People & Blogs\",\"Education\",\"People & Blogs\",\"Music\",\"Science & Technology\",\"Entertainment\",\"Music\",\"Music\",\"Music\",\"Music\",\"People & Blogs\",\"Music\",\"Music\",\"People & Blogs\",\"Music\",\"Travel & Events\",\"Entertainment\",\"People & Blogs\",\"Music\",\"Education\",\"Education\",\"Music\",\"Entertainment\",\"Film & Animation\",\"Music\",\"People & Blogs\",\"People & Blogs\",\"Music\",\"Music\",\"Education\",\"Education\",\"Entertainment\",\"Music\",\"People & Blogs\",\"Nonprofits &Activism\",\"Travel & Events\",\"Entertainment\",\"Education\",\"Film & Animation\",\"People & Blogs\",\"Howto & Style\",\"Music\",\"Education\",\"Music\",\"Music\",\"Music\",\"Music\",\"Music\",\"Music\",\"Music\",\"Music\",\"Music\",\"Music\",\"Music\",\"People & Blogs\",\"People & Blogs\",\"Science & Technology\",\"Entertainment\",\"News & Politics\",\"People & Blogs\",\"Science & Technology\",\"Education\",\"Entertainment\",\"Music\",\"People & Blogs\",\"Music\",\"Howto & Style\",\"Music\",\"People & Blogs\",\"Entertainment\",\"Entertainment\",\"People & Blogs\",\"Science & Technology\",\"Entertainment\",\"People & Blogs\",\"Music\",\"Film & Animation\",\"Music\",\"Music\",\"People & Blogs\",\"Film & Animation\",\"Entertainment\",\"Film & Animation\",\"Music\",\"People & Blogs\",\"Music\",\"Music\",\"People & Blogs\",\"People & Blogs\",\"People & Blogs\",\"Entertainment\",\"Education\",\"People & Blogs\",\"Music\",\"Music\",\"Music\",\"People & Blogs\",\"People & Blogs\",\"Pets & Animals\",\"Entertainment\",\"People & Blogs\",\"People & Blogs\",\"Entertainment\",\"People & Blogs\",\"Music\",\"People & Blogs\",\"People & Blogs\",\"Music\",\"Music\",\"23\",\"Entertainment\",\"Music\",\"Music\",\"Music\",\"Music\",\"Music\",\"People & Blogs\",\"People & Blogs\",\"People & Blogs\",\"People & Blogs\",\"Music\",\"People & Blogs\",\"People & Blogs\",\"Music\",\"Entertainment\",\"Travel & Events\",\"Film & Animation\",\"People & Blogs\",\"Music\",\"Gaming\",\"Music\",\"Education\",\"00\",\"People & Blogs\",\"Film & Animation\",\"People & Blogs\",\"Entertainment\",\"People & Blogs\",\"Music\",\"Howto & Style\",\"Education\",\"Music\",\"Entertainment\",\"Film & Animation\",\"Music\",\"Music\",\"Music\",\"People & Blogs\",\"People & Blogs\",\"Music\",\"Music\",\"Music\",\"People & Blogs\",\"People & Blogs\",\"Music\",\"Music\",\"Music\",\"Music\",\"People & Blogs\",\"Entertainment\",\"Music\",\"People & Blogs\",\"Music\",\"Music\",\"Music\",\"People & Blogs\",\"Music\",\"Music\",\"Music\",\"Music\",\"Music\",\"Sports\",\"23\",\"Music\",\"Film & Animation\",\"Music\",\"Gaming\",\"Music\",\"People & Blogs\",\"People & Blogs\",\"Music\",\"Music\",\"Entertainment\",\"Music\",\"Entertainment\",\"Howto & Style\",\"People & Blogs\",\"People & Blogs\",\"Travel & Events\",\"People & Blogs\",\"Music\",\"People & Blogs\",\"People & Blogs\",\"Music\",\"Film & Animation\",\"People & Blogs\",\"Education\",\"Music\",\"Entertainment\",\"Music\",\"Entertainment\",\"Education\",\"Music\",\"Entertainment\",\"Education\",\"Music\",\"23\",\"People & Blogs\",\"Music\",\"Education\",\"Music\",\"People & Blogs\",\"Music\",\"Sports\",\"Entertainment\",\"Education\",\"Music\",\"Music\",\"Music\",\"Music\",\"People & Blogs\",\"Education\",\"Entertainment\",\"People & Blogs\",\"Travel & Events\",\"People & Blogs\",\"Music\",\"Film & Animation\",\"Nonprofits &Activism\",\"Music\",\"Music\",\"Music\",\"Film & Animation\",\"23\",\"Entertainment\",\"23\",\"Entertainment\",\"Education\",\"People & Blogs\",\"Film & Animation\",\"Music\",\"23\",\"Music\",\"Music\",\"Education\",\"People & Blogs\",\"Travel & Events\",\"People & Blogs\",\"Music\",\"Education\",\"People & Blogs\",\"People & Blogs\",\"Entertainment\",\"Music\",\"Music\",\"Travel & Events\",\"People & Blogs\",\"Nonprofits &Activism\",\"Music\",\"Music\",\"People & Blogs\",\"Music\",\"People & Blogs\",\"Travel & Events\",\"Sports\",\"Entertainment\",\"People & Blogs\",\"Education\",\"Music\",\"Music\",\"23\",\"Music\",\"Music\",\"Music\",\"Entertainment\",\"Music\",\"Music\",\"Music\",\"Gaming\",\"People & Blogs\",\"People & Blogs\",\"Entertainment\",\"Music\",\"People & Blogs\",\"Music\",\"Music\",\"Entertainment\",\"Music\",\"Music\",\"People & Blogs\",\"People & Blogs\",\"Music\",\"Music\",\"Music\",\"Entertainment\",\"People & Blogs\",\"Music\",\"Music\",\"Education\",\"Gaming\",\"People & Blogs\",\"Entertainment\",\"Music\",\"Education\",\"Music\",\"Film & Animation\",\"Music\",\"Entertainment\",\"Music\",\"News & Politics\",\"News & Politics\",\"News & Politics\",\"Education\",\"News & Politics\",\"People & Blogs\",\"Entertainment\",\"Music\",\"Music\",\"People & Blogs\",\"People & Blogs\",\"Entertainment\",\"Science & Technology\",\"People & Blogs\",\"Entertainment\",\"Music\",\"Entertainment\",\"Entertainment\",\"People & Blogs\",\"Entertainment\",\"Gaming\",\"Education\",\"Entertainment\",\"Travel & Events\",\"Entertainment\",\"People & Blogs\",\"People & Blogs\",\"Education\",\"Entertainment\",\"Music\",\"Music\",\"Music\",\"People & Blogs\",\"Music\",\"Music\",\"Entertainment\",\"Music\",\"People & Blogs\",\"23\",\"Music\",\"Music\",\"Science & Technology\",\"Entertainment\",\"Music\",\"People & Blogs\",\"Music\",\"People & Blogs\",\"Travel & Events\",\"Travel & Events\",\"Music\",\"Music\",\"Music\",\"People & Blogs\",\"Music\",\"Music\",\"Music\",\"Music\",\"Music\",\"Music\",\"Music\",\"Education\",\"Music\",\"Education\",\"Education\",\"Music\",\"Music\",\"Science & Technology\",\"People & Blogs\",\"People & Blogs\",\"People & Blogs\",\"Music\",\"Music\",\"Music\",\"Music\",\"Music\",\"Music\",\"Music\",\"People & Blogs\",\"People & Blogs\",\"Music\",\"Music\",\"People & Blogs\",\"Music\",\"People & Blogs\",\"Education\",\"People & Blogs\",\"Education\",\"People & Blogs\",\"People & Blogs\",\"Howto & Style\",\"Entertainment\",\"Entertainment\",\"Music\",\"Entertainment\",\"Music\",\"Music\",\"Music\",\"Education\",\"Science & Technology\",\"Travel & Events\",\"Education\",\"Music\",\"Entertainment\",\"People & Blogs\",\"Music\",\"Music\",\"Music\",\"Music\",\"Music\",\"People & Blogs\",\"People & Blogs\",\"Music\",\"Music\",\"Music\",\"Film & Animation\",\"People & Blogs\",\"Travel & Events\",\"Film & Animation\",\"People & Blogs\",\"Travel & Events\",\"Education\",\"Entertainment\",\"People & Blogs\",\"People & Blogs\",\"Music\",\"23\",\"Entertainment\",\"Entertainment\",\"Music\",\"People & Blogs\",\"Film & Animation\",\"Travel & Events\",\"Music\",\"Music\",\"Music\",\"People & Blogs\",\"Entertainment\",\"Music\",\"People & Blogs\",\"Howto & Style\",\"Entertainment\",\"23\",\"Music\",\"Music\",\"Music\",\"Music\",\"People & Blogs\",\"Travel & Events\",\"Music\",\"Entertainment\",\"Music\",\"Entertainment\",\"Music\",\"People & Blogs\",\"Entertainment\",\"People & Blogs\",\"Music\",\"Education\",\"People & Blogs\",\"Science & Technology\",\"Travel & Events\",\"People & Blogs\",\"People & Blogs\",\"People & Blogs\",\"Music\",\"Music\",\"Music\",\"Music\",\"Music\",\"Music\",\"Music\",\"Music\",\"Music\",\"Music\",\"Music\",\"People & Blogs\",\"People & Blogs\",\"Music\",\"People & Blogs\",\"Entertainment\",\"Music\",\"Music\",\"Music\",\"Music\",\"Science & Technology\",\"Music\",\"Music\",\"Music\",\"Music\",\"Music\",\"Music\",\"People & Blogs\",\"Nonprofits &Activism\",\"Education\",\"Music\",\"Music\",\"Music\",\"Entertainment\",\"Film & Animation\",\"People & Blogs\",\"People & Blogs\",\"Music\",\"Music\",\"Music\",\"People & Blogs\",\"Music\",\"People & Blogs\",\"People & Blogs\",\"Music\",\"Music\",\"Music\",\"Education\",\"Music\",\"Music\",\"Music\",\"Music\",\"Entertainment\",\"Music\",\"Music\",\"Music\",\"Entertainment\",\"Travel & Events\",\"Film & Animation\",\"People & Blogs\",\"23\",\"Music\",\"People & Blogs\",\"People & Blogs\",\"Entertainment\",\"00\",\"Music\",\"People & Blogs\",\"Music\",\"Music\",\"People & Blogs\",\"Music\",\"People & Blogs\",\"Education\",\"Nonprofits &Activism\",\"Music\",\"Travel & Events\",\"Science & Technology\",\"People & Blogs\",\"Music\",\"Entertainment\",\"23\",\"Music\",\"Music\",\"Entertainment\",\"People & Blogs\",\"Education\",\"Education\",\"Music\",\"People & Blogs\",\"People & Blogs\",\"Music\",\"Entertainment\",\"People & Blogs\",\"Entertainment\",\"Music\",\"Music\",\"People & Blogs\",\"Entertainment\",\"Music\",\"Science & Technology\",\"Music\",\"Howto & Style\",\"Music\",\"Education\",\"Science & Technology\",\"People & Blogs\",\"Music\",\"Music\",\"Music\",\"People & Blogs\",\"Music\",\"Music\",\"People & Blogs\",\"Music\",\"Music\",\"Music\",\"People & Blogs\",\"Nonprofits &Activism\",\"00\",\"People & Blogs\",\"Entertainment\",\"Music\",\"Travel & Events\",\"Travel & Events\",\"People & Blogs\",\"Music\",\"Film & Animation\",\"Music\",\"Howto & Style\",\"Music\",\"Music\",\"Music\",\"Music\",\"Music\",\"Education\",\"People & Blogs\",\"Music\",\"Music\",\"People & Blogs\",\"Music\",\"Music\",\"Science & Technology\",\"People & Blogs\",\"Howto & Style\",\"Travel & Events\",\"People & Blogs\",\"Music\",\"Music\",\"Music\",\"News & Politics\",\"Music\",\"Music\",\"Film & Animation\",\"Film & Animation\",\"Entertainment\",\"Music\",\"Music\",\"Music\",\"People & Blogs\",\"Music\",\"People & Blogs\",\"Entertainment\",\"Entertainment\",\"Travel & Events\",\"Howto & Style\",\"Music\",\"Entertainment\",\"Music\",\"Music\",\"Travel & Events\",\"Film & Animation\",\"Entertainment\",\"Music\",\"Music\",\"Music\",\"Music\",\"Music\",\"Music\",\"Education\",\"Music\",\"Music\",\"Music\",\"People & Blogs\",\"Music\",\"Entertainment\",\"Music\",\"People & Blogs\",\"People & Blogs\",\"Music\",\"Music\",\"Music\",\"Music\",\"People & Blogs\",\"Music\",\"People & Blogs\",\"People & Blogs\",\"Entertainment\",\"Music\",\"People & Blogs\",\"Music\",\"Music\",\"People & Blogs\",\"People & Blogs\",\"People & Blogs\",\"People & Blogs\",\"Music\",\"Music\",\"Music\",\"Entertainment\",\"Film & Animation\",\"Entertainment\",\"Howto & Style\",\"Education\",\"Music\",\"Entertainment\",\"People & Blogs\",\"Music\",\"Travel & Events\",\"People & Blogs\",\"Music\",\"Entertainment\",\"Entertainment\",\"Entertainment\",\"Education\",\"Music\",\"Music\",\"People & Blogs\",\"Music\",\"Entertainment\",\"Howto & Style\",\"Entertainment\",\"Entertainment\",\"Music\",\"People & Blogs\",\"Music\",\"Entertainment\",\"Autos & Vehicles\",\"Entertainment\",\"People & Blogs\",\"Howto & Style\",\"Music\",\"Music\",\"People & Blogs\",\"Music\",\"Science & Technology\",\"Travel & Events\",\"Music\",\"Music\",\"People & Blogs\",\"Travel & Events\",\"Music\",\"Entertainment\",\"People & Blogs\",\"People & Blogs\",\"Entertainment\",\"Music\",\"Music\",\"Music\",\"People & Blogs\",\"Travel & Events\",\"Entertainment\",\"Music\",\"Music\",\"Music\",\"Education\",\"Science & Technology\",\"People & Blogs\",\"Music\",\"Music\",\"Music\",\"Music\",\"Music\",\"Education\",\"Music\",\"Nonprofits &Activism\",\"Music\",\"Music\",\"Music\",\"Music\",\"Music\",\"Music\",\"People & Blogs\",\"Music\",\"Music\",\"Music\",\"Entertainment\",\"Education\",\"Education\",\"Science & Technology\",\"Music\",\"Music\",\"People & Blogs\",\"People & Blogs\",\"Music\",\"Howto & Style\",\"Education\",\"People & Blogs\",\"Music\",\"Education\",\"Education\",\"Entertainment\",\"Music\",\"Entertainment\",\"People & Blogs\",\"Music\",\"Music\",\"People & Blogs\",\"Music\",\"People & Blogs\",\"Entertainment\",\"People & Blogs\",\"Film & Animation\",\"People & Blogs\",\"Science & Technology\",\"People & Blogs\",\"People & Blogs\",\"Music\",\"Science & Technology\",\"Entertainment\",\"Music\",\"People & Blogs\",\"Science & Technology\",\"Music\",\"Science & Technology\",\"People & Blogs\",\"Entertainment\",\"Entertainment\",\"Entertainment\",\"Music\",\"Entertainment\",\"Music\",\"Entertainment\",\"Music\",\"Education\",\"Music\",\"People & Blogs\",\"Music\",\"Entertainment\",\"Music\",\"People & Blogs\",\"Film & Animation\",\"People & Blogs\",\"Entertainment\",\"People & Blogs\",\"Entertainment\",\"Education\",\"Music\",\"Music\",\"People & Blogs\",\"Entertainment\",\"Entertainment\",\"Science & Technology\",\"Gaming\",\"Entertainment\",\"Gaming\",\"People & Blogs\",\"00\",\"People & Blogs\",\"Travel & Events\",\"Music\",\"Music\",\"People & Blogs\",\"Music\",\"Music\",\"Music\",\"Entertainment\",\"Music\",\"Education\",\"Education\",\"People & Blogs\",\"Education\",\"Entertainment\",\"Education\",\"Science & Technology\",\"Entertainment\",\"Entertainment\",\"Education\",\"Science & Technology\",\"Music\",\"People & Blogs\",\"Entertainment\",\"Education\",\"Education\",\"Entertainment\",\"People & Blogs\",\"Entertainment\",\"Entertainment\",\"News & Politics\",\"People & Blogs\",\"Entertainment\",\"People & Blogs\",\"People & Blogs\",\"People & Blogs\",\"Nonprofits &Activism\",\"Music\",\"Music\",\"Music\",\"Music\",\"People & Blogs\",\"Education\",\"Nonprofits &Activism\",\"News & Politics\",\"People & Blogs\",\"People & Blogs\",\"Music\",\"Music\",\"Music\",\"00\",\"Entertainment\",\"Nonprofits &Activism\",\"Entertainment\",\"People & Blogs\",\"Music\",\"Music\",\"Music\",\"People & Blogs\",\"Entertainment\",\"People & Blogs\",\"People & Blogs\",\"Music\",\"Music\",\"Music\",\"Music\",\"People & Blogs\",\"Entertainment\",\"Film & Animation\",\"People & Blogs\",\"23\",\"Entertainment\",\"Music\",\"People & Blogs\",\"Entertainment\",\"Music\",\"23\",\"People & Blogs\",\"23\",\"Gaming\",\"People & Blogs\",\"Gaming\",\"Film & Animation\",\"People & Blogs\",\"Music\",\"Music\",\"People & Blogs\",\"Music\",\"People & Blogs\",\"Music\",\"People & Blogs\",\"Entertainment\",\"Entertainment\",\"People & Blogs\",\"Entertainment\",\"News & Politics\",\"Music\",\"Music\",\"People & Blogs\",\"Music\",\"Music\",\"Music\",\"Music\",\"Entertainment\",\"Music\",\"Music\",\"People & Blogs\",\"People & Blogs\",\"Music\",\"Entertainment\",\"Entertainment\",\"Music\",\"Education\",\"Entertainment\",\"Music\",\"Travel & Events\",\"Music\",\"Music\",\"Autos & Vehicles\",\"Education\",\"Music\",\"Music\",\"Music\",\"News & Politics\",\"People & Blogs\",\"Music\",\"Music\",\"Travel & Events\",\"Music\",\"Entertainment\",\"00\",\"People & Blogs\",\"Music\",\"23\",\"Music\",\"Entertainment\",\"Film & Animation\",\"Music\",\"Music\",\"Music\",\"Travel & Events\",\"Music\",\"People & Blogs\",\"Entertainment\",\"Music\",\"News & Politics\",\"Sports\",\"Music\",\"Music\",\"Entertainment\",\"People & Blogs\",\"News & Politics\",\"Entertainment\",\"Music\",\"Education\",\"Music\",\"Music\",\"Autos & Vehicles\",\"Entertainment\",\"People & Blogs\",\"Entertainment\",\"Music\",\"Music\",\"People & Blogs\",\"Music\",\"Music\",\"People & Blogs\",\"People & Blogs\",\"Music\",\"Music\",\"Music\",\"Film & Animation\",\"Music\",\"Education\",\"Entertainment\",\"Entertainment\",\"Music\",\"Music\",\"People & Blogs\",\"Science & Technology\",\"Music\",\"People & Blogs\",\"People & Blogs\",\"Travel & Events\",\"Entertainment\",\"Music\",\"Music\",\"Entertainment\",\"Nonprofits &Activism\",\"Gaming\",\"Music\",\"Music\",\"Entertainment\",\"Music\",\"Music\",\"Entertainment\",\"Entertainment\",\"Music\",\"Entertainment\",\"Entertainment\",\"Entertainment\",\"Music\",\"Music\",\"Music\",\"Music\",\"Music\",\"People & Blogs\",\"People & Blogs\",\"Music\",\"Music\",\"Music\",\"Music\",\"Travel & Events\",\"Music\",\"Entertainment\",\"Music\",\"Education\",\"People & Blogs\",\"Music\",\"People & Blogs\",\"Music\",\"People & Blogs\",\"People & Blogs\",\"Music\",\"Music\",\"Music\",\"People & Blogs\",\"Entertainment\",\"Music\",\"Music\",\"People & Blogs\",\"Film & Animation\",\"Music\",\"Travel & Events\",\"Education\",\"Nonprofits &Activism\",\"Music\",\"Entertainment\",\"News & Politics\",\"People & Blogs\",\"Music\",\"People & Blogs\",\"Music\",\"Entertainment\",\"Music\",\"Music\",\"Music\",\"People & Blogs\",\"Entertainment\",\"Film & Animation\",\"Entertainment\",\"People & Blogs\",\"News & Politics\",\"Music\",\"Entertainment\",\"People & Blogs\",\"Entertainment\",\"Travel & Events\",\"Music\",\"People & Blogs\",\"Film & Animation\",\"People & Blogs\",\"Music\",\"Entertainment\",\"People & Blogs\",\"Music\",\"Travel & Events\",\"Education\",\"Science & Technology\",\"Film & Animation\",\"Gaming\",\"Entertainment\",\"Travel & Events\",\"Travel & Events\",\"Science & Technology\",\"Music\",\"Music\",\"Entertainment\",\"Music\",\"Music\",\"Film & Animation\",\"Music\",\"Education\",\"Music\",\"Music\",\"Education\",\"Music\",\"Music\",\"Entertainment\",\"Music\",\"Howto & Style\",\"Music\",\"Entertainment\",\"Music\",\"Entertainment\",\"Gaming\",\"Music\",\"Music\",\"People & Blogs\",\"Music\",\"Film & Animation\",\"Entertainment\",\"Music\",\"Entertainment\",\"Music\",\"Music\",\"Science & Technology\",\"Travel & Events\",\"Entertainment\",\"Travel & Events\",\"Entertainment\",\"Entertainment\",\"Music\",\"Music\",\"Music\",\"Entertainment\",\"Music\",\"Music\",\"Entertainment\",\"Music\",\"Music\",\"Music\",\"Music\",\"People & Blogs\",\"People & Blogs\",\"People & Blogs\",\"Music\",\"Music\",\"People & Blogs\",\"Music\",\"Music\",\"People & Blogs\",\"Entertainment\",\"Music\",\"Music\",\"Travel & Events\",\"Music\",\"People & Blogs\",\"Music\",\"Music\",\"Music\",\"People & Blogs\",\"Music\",\"Travel & Events\",\"Music\",\"Education\",\"Education\",\"Science & Technology\",\"Music\",\"People & Blogs\",\"Entertainment\",\"News & Politics\",\"Music\",\"Science & Technology\",\"Travel & Events\",\"Music\",\"Music\",\"Music\",\"Music\",\"Entertainment\",\"Entertainment\",\"News & Politics\",\"Music\",\"Music\",\"Music\",\"Travel & Events\",\"People & Blogs\",\"People & Blogs\",\"Music\",\"People & Blogs\",\"Travel & Events\",\"Music\",\"People & Blogs\",\"Entertainment\",\"Music\",\"Music\",\"People & Blogs\",\"Music\",\"Travel & Events\",\"Entertainment\",\"Music\",\"Science & Technology\",\"Travel & Events\",\"Music\",\"People & Blogs\",\"Education\",\"People & Blogs\",\"Travel & Events\",\"Travel & Events\",\"Travel & Events\",\"People & Blogs\",\"Pets & Animals\",\"Travel & Events\",\"Travel & Events\",\"Travel & Events\",\"Travel & Events\",\"Travel & Events\",\"Travel & Events\",\"Music\",\"Music\",\"People & Blogs\",\"Science & Technology\",\"Education\",\"Music\",\"People & Blogs\",\"Music\",\"Travel & Events\",\"Music\",\"People & Blogs\",\"Education\",\"Science & Technology\",\"Music\",\"Entertainment\",\"Entertainment\",\"Travel & Events\",\"Music\",\"Travel & Events\",\"23\",\"Music\",\"Music\",\"Entertainment\",\"People & Blogs\",\"People & Blogs\",\"People & Blogs\",\"Music\",\"Music\",\"Music\",\"Entertainment\",\"Music\",\"Music\",\"Music\",\"People & Blogs\",\"Music\",\"Music\",\"Film & Animation\",\"Entertainment\",\"Education\",\"Music\",\"People & Blogs\",\"Entertainment\",\"Music\",\"People & Blogs\",\"Travel & Events\",\"Entertainment\",\"Nonprofits &Activism\",\"People & Blogs\",\"Music\",\"Music\",\"Music\",\"People & Blogs\",\"Music\",\"Entertainment\",\"Music\",\"Entertainment\",\"People & Blogs\",\"Music\",\"Music\",\"Music\",\"Music\",\"Music\",\"People & Blogs\",\"People & Blogs\",\"Trailers\",\"Music\",\"00\",\"Travel & Events\",\"Music\",\"Gaming\",\"Music\",\"Entertainment\",\"Science & Technology\",\"Music\",\"Music\",\"Music\",\"Music\",\"Music\",\"Music\",\"Music\",\"People & Blogs\",\"Music\",\"People & Blogs\",\"Music\",\"Music\",\"Music\",\"Music\",\"Music\",\"Music\",\"Music\",\"Film & Animation\",\"Autos & Vehicles\",\"Science & Technology\",\"Entertainment\",\"People & Blogs\",\"Music\",\"Music\",\"Music\",\"People & Blogs\",\"Music\",\"Music\",\"Music\",\"People & Blogs\",\"Music\",\"Education\",\"Music\",\"Music\",\"Music\",\"Music\",\"Music\",\"Entertainment\",\"00\",\"Education\",\"Music\",\"Music\",\"Travel & Events\",\"Music\",\"People & Blogs\",\"People & Blogs\",\"Music\",\"Music\",\"Music\",\"Film & Animation\",\"People & Blogs\",\"People & Blogs\",\"People & Blogs\",\"Film & Animation\",\"Howto & Style\",\"Science & Technology\",\"Education\",\"Music\",\"Music\",\"Music\",\"Travel & Events\",\"Music\",\"Music\",\"People & Blogs\",\"Music\",\"Music\",\"People & Blogs\",\"Music\",\"Music\",\"Music\",\"Music\",\"Music\",\"Music\",\"Film & Animation\",\"Music\",\"Music\",\"Music\",\"Music\",\"Travel & Events\",\"People & Blogs\",\"People & Blogs\",\"People & Blogs\",\"People & Blogs\",\"Music\",\"Music\",\"23\",\"Music\",\"Travel & Events\",\"Entertainment\",\"Music\",\"Music\",\"Music\",\"Music\",\"Music\",\"Music\",\"Entertainment\",\"Music\",\"People & Blogs\",\"Music\",\"Education\",\"Music\",\"People & Blogs\",\"Science & Technology\",\"Entertainment\",\"People & Blogs\",\"Music\",\"Gaming\",\"Sports\",\"Entertainment\",\"Music\",\"Education\",\"Music\",\"People & Blogs\",\"Music\",\"Music\",\"Music\",\"Music\",\"People & Blogs\",\"People & Blogs\",\"Music\",\"People & Blogs\",\"Music\",\"People & Blogs\",\"Music\",\"Music\",\"Music\",\"Music\",\"Music\",\"Entertainment\",\"Music\",\"Music\",\"Entertainment\",\"Music\",\"Entertainment\",\"Music\",\"23\",\"Music\",\"Music\",\"People & Blogs\",\"Music\",\"Music\",\"Music\",\"Entertainment\",\"People & Blogs\",\"People & Blogs\"],\"yaxis\":\"y\"}],                        {\"barmode\":\"group\",\"legend\":{\"tracegroupgap\":0},\"template\":{\"data\":{\"bar\":[{\"error_x\":{\"color\":\"#2a3f5f\"},\"error_y\":{\"color\":\"#2a3f5f\"},\"marker\":{\"line\":{\"color\":\"#E5ECF6\",\"width\":0.5},\"pattern\":{\"fillmode\":\"overlay\",\"size\":10,\"solidity\":0.2}},\"type\":\"bar\"}],\"barpolar\":[{\"marker\":{\"line\":{\"color\":\"#E5ECF6\",\"width\":0.5},\"pattern\":{\"fillmode\":\"overlay\",\"size\":10,\"solidity\":0.2}},\"type\":\"barpolar\"}],\"carpet\":[{\"aaxis\":{\"endlinecolor\":\"#2a3f5f\",\"gridcolor\":\"white\",\"linecolor\":\"white\",\"minorgridcolor\":\"white\",\"startlinecolor\":\"#2a3f5f\"},\"baxis\":{\"endlinecolor\":\"#2a3f5f\",\"gridcolor\":\"white\",\"linecolor\":\"white\",\"minorgridcolor\":\"white\",\"startlinecolor\":\"#2a3f5f\"},\"type\":\"carpet\"}],\"choropleth\":[{\"colorbar\":{\"outlinewidth\":0,\"ticks\":\"\"},\"type\":\"choropleth\"}],\"contour\":[{\"colorbar\":{\"outlinewidth\":0,\"ticks\":\"\"},\"colorscale\":[[0.0,\"#0d0887\"],[0.1111111111111111,\"#46039f\"],[0.2222222222222222,\"#7201a8\"],[0.3333333333333333,\"#9c179e\"],[0.4444444444444444,\"#bd3786\"],[0.5555555555555556,\"#d8576b\"],[0.6666666666666666,\"#ed7953\"],[0.7777777777777778,\"#fb9f3a\"],[0.8888888888888888,\"#fdca26\"],[1.0,\"#f0f921\"]],\"type\":\"contour\"}],\"contourcarpet\":[{\"colorbar\":{\"outlinewidth\":0,\"ticks\":\"\"},\"type\":\"contourcarpet\"}],\"heatmap\":[{\"colorbar\":{\"outlinewidth\":0,\"ticks\":\"\"},\"colorscale\":[[0.0,\"#0d0887\"],[0.1111111111111111,\"#46039f\"],[0.2222222222222222,\"#7201a8\"],[0.3333333333333333,\"#9c179e\"],[0.4444444444444444,\"#bd3786\"],[0.5555555555555556,\"#d8576b\"],[0.6666666666666666,\"#ed7953\"],[0.7777777777777778,\"#fb9f3a\"],[0.8888888888888888,\"#fdca26\"],[1.0,\"#f0f921\"]],\"type\":\"heatmap\"}],\"heatmapgl\":[{\"colorbar\":{\"outlinewidth\":0,\"ticks\":\"\"},\"colorscale\":[[0.0,\"#0d0887\"],[0.1111111111111111,\"#46039f\"],[0.2222222222222222,\"#7201a8\"],[0.3333333333333333,\"#9c179e\"],[0.4444444444444444,\"#bd3786\"],[0.5555555555555556,\"#d8576b\"],[0.6666666666666666,\"#ed7953\"],[0.7777777777777778,\"#fb9f3a\"],[0.8888888888888888,\"#fdca26\"],[1.0,\"#f0f921\"]],\"type\":\"heatmapgl\"}],\"histogram\":[{\"marker\":{\"pattern\":{\"fillmode\":\"overlay\",\"size\":10,\"solidity\":0.2}},\"type\":\"histogram\"}],\"histogram2d\":[{\"colorbar\":{\"outlinewidth\":0,\"ticks\":\"\"},\"colorscale\":[[0.0,\"#0d0887\"],[0.1111111111111111,\"#46039f\"],[0.2222222222222222,\"#7201a8\"],[0.3333333333333333,\"#9c179e\"],[0.4444444444444444,\"#bd3786\"],[0.5555555555555556,\"#d8576b\"],[0.6666666666666666,\"#ed7953\"],[0.7777777777777778,\"#fb9f3a\"],[0.8888888888888888,\"#fdca26\"],[1.0,\"#f0f921\"]],\"type\":\"histogram2d\"}],\"histogram2dcontour\":[{\"colorbar\":{\"outlinewidth\":0,\"ticks\":\"\"},\"colorscale\":[[0.0,\"#0d0887\"],[0.1111111111111111,\"#46039f\"],[0.2222222222222222,\"#7201a8\"],[0.3333333333333333,\"#9c179e\"],[0.4444444444444444,\"#bd3786\"],[0.5555555555555556,\"#d8576b\"],[0.6666666666666666,\"#ed7953\"],[0.7777777777777778,\"#fb9f3a\"],[0.8888888888888888,\"#fdca26\"],[1.0,\"#f0f921\"]],\"type\":\"histogram2dcontour\"}],\"mesh3d\":[{\"colorbar\":{\"outlinewidth\":0,\"ticks\":\"\"},\"type\":\"mesh3d\"}],\"parcoords\":[{\"line\":{\"colorbar\":{\"outlinewidth\":0,\"ticks\":\"\"}},\"type\":\"parcoords\"}],\"pie\":[{\"automargin\":true,\"type\":\"pie\"}],\"scatter\":[{\"marker\":{\"colorbar\":{\"outlinewidth\":0,\"ticks\":\"\"}},\"type\":\"scatter\"}],\"scatter3d\":[{\"line\":{\"colorbar\":{\"outlinewidth\":0,\"ticks\":\"\"}},\"marker\":{\"colorbar\":{\"outlinewidth\":0,\"ticks\":\"\"}},\"type\":\"scatter3d\"}],\"scattercarpet\":[{\"marker\":{\"colorbar\":{\"outlinewidth\":0,\"ticks\":\"\"}},\"type\":\"scattercarpet\"}],\"scattergeo\":[{\"marker\":{\"colorbar\":{\"outlinewidth\":0,\"ticks\":\"\"}},\"type\":\"scattergeo\"}],\"scattergl\":[{\"marker\":{\"colorbar\":{\"outlinewidth\":0,\"ticks\":\"\"}},\"type\":\"scattergl\"}],\"scattermapbox\":[{\"marker\":{\"colorbar\":{\"outlinewidth\":0,\"ticks\":\"\"}},\"type\":\"scattermapbox\"}],\"scatterpolar\":[{\"marker\":{\"colorbar\":{\"outlinewidth\":0,\"ticks\":\"\"}},\"type\":\"scatterpolar\"}],\"scatterpolargl\":[{\"marker\":{\"colorbar\":{\"outlinewidth\":0,\"ticks\":\"\"}},\"type\":\"scatterpolargl\"}],\"scatterternary\":[{\"marker\":{\"colorbar\":{\"outlinewidth\":0,\"ticks\":\"\"}},\"type\":\"scatterternary\"}],\"surface\":[{\"colorbar\":{\"outlinewidth\":0,\"ticks\":\"\"},\"colorscale\":[[0.0,\"#0d0887\"],[0.1111111111111111,\"#46039f\"],[0.2222222222222222,\"#7201a8\"],[0.3333333333333333,\"#9c179e\"],[0.4444444444444444,\"#bd3786\"],[0.5555555555555556,\"#d8576b\"],[0.6666666666666666,\"#ed7953\"],[0.7777777777777778,\"#fb9f3a\"],[0.8888888888888888,\"#fdca26\"],[1.0,\"#f0f921\"]],\"type\":\"surface\"}],\"table\":[{\"cells\":{\"fill\":{\"color\":\"#EBF0F8\"},\"line\":{\"color\":\"white\"}},\"header\":{\"fill\":{\"color\":\"#C8D4E3\"},\"line\":{\"color\":\"white\"}},\"type\":\"table\"}]},\"layout\":{\"annotationdefaults\":{\"arrowcolor\":\"#2a3f5f\",\"arrowhead\":0,\"arrowwidth\":1},\"autotypenumbers\":\"strict\",\"coloraxis\":{\"colorbar\":{\"outlinewidth\":0,\"ticks\":\"\"}},\"colorscale\":{\"diverging\":[[0,\"#8e0152\"],[0.1,\"#c51b7d\"],[0.2,\"#de77ae\"],[0.3,\"#f1b6da\"],[0.4,\"#fde0ef\"],[0.5,\"#f7f7f7\"],[0.6,\"#e6f5d0\"],[0.7,\"#b8e186\"],[0.8,\"#7fbc41\"],[0.9,\"#4d9221\"],[1,\"#276419\"]],\"sequential\":[[0.0,\"#0d0887\"],[0.1111111111111111,\"#46039f\"],[0.2222222222222222,\"#7201a8\"],[0.3333333333333333,\"#9c179e\"],[0.4444444444444444,\"#bd3786\"],[0.5555555555555556,\"#d8576b\"],[0.6666666666666666,\"#ed7953\"],[0.7777777777777778,\"#fb9f3a\"],[0.8888888888888888,\"#fdca26\"],[1.0,\"#f0f921\"]],\"sequentialminus\":[[0.0,\"#0d0887\"],[0.1111111111111111,\"#46039f\"],[0.2222222222222222,\"#7201a8\"],[0.3333333333333333,\"#9c179e\"],[0.4444444444444444,\"#bd3786\"],[0.5555555555555556,\"#d8576b\"],[0.6666666666666666,\"#ed7953\"],[0.7777777777777778,\"#fb9f3a\"],[0.8888888888888888,\"#fdca26\"],[1.0,\"#f0f921\"]]},\"colorway\":[\"#636efa\",\"#EF553B\",\"#00cc96\",\"#ab63fa\",\"#FFA15A\",\"#19d3f3\",\"#FF6692\",\"#B6E880\",\"#FF97FF\",\"#FECB52\"],\"font\":{\"color\":\"#2a3f5f\"},\"geo\":{\"bgcolor\":\"white\",\"lakecolor\":\"white\",\"landcolor\":\"#E5ECF6\",\"showlakes\":true,\"showland\":true,\"subunitcolor\":\"white\"},\"hoverlabel\":{\"align\":\"left\"},\"hovermode\":\"closest\",\"mapbox\":{\"style\":\"light\"},\"paper_bgcolor\":\"white\",\"plot_bgcolor\":\"#E5ECF6\",\"polar\":{\"angularaxis\":{\"gridcolor\":\"white\",\"linecolor\":\"white\",\"ticks\":\"\"},\"bgcolor\":\"#E5ECF6\",\"radialaxis\":{\"gridcolor\":\"white\",\"linecolor\":\"white\",\"ticks\":\"\"}},\"scene\":{\"xaxis\":{\"backgroundcolor\":\"#E5ECF6\",\"gridcolor\":\"white\",\"gridwidth\":2,\"linecolor\":\"white\",\"showbackground\":true,\"ticks\":\"\",\"zerolinecolor\":\"white\"},\"yaxis\":{\"backgroundcolor\":\"#E5ECF6\",\"gridcolor\":\"white\",\"gridwidth\":2,\"linecolor\":\"white\",\"showbackground\":true,\"ticks\":\"\",\"zerolinecolor\":\"white\"},\"zaxis\":{\"backgroundcolor\":\"#E5ECF6\",\"gridcolor\":\"white\",\"gridwidth\":2,\"linecolor\":\"white\",\"showbackground\":true,\"ticks\":\"\",\"zerolinecolor\":\"white\"}},\"shapedefaults\":{\"line\":{\"color\":\"#2a3f5f\"}},\"ternary\":{\"aaxis\":{\"gridcolor\":\"white\",\"linecolor\":\"white\",\"ticks\":\"\"},\"baxis\":{\"gridcolor\":\"white\",\"linecolor\":\"white\",\"ticks\":\"\"},\"bgcolor\":\"#E5ECF6\",\"caxis\":{\"gridcolor\":\"white\",\"linecolor\":\"white\",\"ticks\":\"\"}},\"title\":{\"x\":0.05},\"xaxis\":{\"automargin\":true,\"gridcolor\":\"white\",\"linecolor\":\"white\",\"ticks\":\"\",\"title\":{\"standoff\":15},\"zerolinecolor\":\"white\",\"zerolinewidth\":2},\"yaxis\":{\"automargin\":true,\"gridcolor\":\"white\",\"linecolor\":\"white\",\"ticks\":\"\",\"title\":{\"standoff\":15},\"zerolinecolor\":\"white\",\"zerolinewidth\":2}}},\"title\":{\"text\":\"N\\u00famero dos v\\u00eddeos assistidos por categoria\"},\"xaxis\":{\"anchor\":\"y\",\"domain\":[0.0,1.0],\"title\":{\"text\":\"size\"}},\"yaxis\":{\"anchor\":\"x\",\"domain\":[0.0,1.0],\"title\":{\"text\":\"categories\"}}},                        {\"responsive\": true}                    ).then(function(){\n",
              "                            \n",
              "var gd = document.getElementById('1af508db-594a-4cf3-be6e-5878a0425083');\n",
              "var x = new MutationObserver(function (mutations, observer) {{\n",
              "        var display = window.getComputedStyle(gd).display;\n",
              "        if (!display || display === 'none') {{\n",
              "            console.log([gd, 'removed!']);\n",
              "            Plotly.purge(gd);\n",
              "            observer.disconnect();\n",
              "        }}\n",
              "}});\n",
              "\n",
              "// Listen for the removal of the full notebook cells\n",
              "var notebookContainer = gd.closest('#notebook-container');\n",
              "if (notebookContainer) {{\n",
              "    x.observe(notebookContainer, {childList: true});\n",
              "}}\n",
              "\n",
              "// Listen for the clearing of the current output cell\n",
              "var outputEl = gd.closest('.output');\n",
              "if (outputEl) {{\n",
              "    x.observe(outputEl, {childList: true});\n",
              "}}\n",
              "\n",
              "                        })                };                            </script>        </div>\n",
              "</body>\n",
              "</html>"
            ]
          },
          "metadata": {
            "tags": []
          }
        }
      ]
    },
    {
      "cell_type": "markdown",
      "metadata": {
        "id": "uISN2w_sKigp"
      },
      "source": [
        "## **Dados Facebook - Limpeza + Análise**"
      ]
    },
    {
      "cell_type": "markdown",
      "metadata": {
        "id": "JUgmOm0HNkNc"
      },
      "source": [
        "### **Em qual grupo do Facebook Juliana interaje mais?** \n"
      ]
    },
    {
      "cell_type": "markdown",
      "metadata": {
        "id": "rBL5ufuqaa1u"
      },
      "source": [
        "##### Conectando o arquivo e criando um dataframe"
      ]
    },
    {
      "cell_type": "code",
      "metadata": {
        "id": "OrHTWw3vJEA5"
      },
      "source": [
        "inter =pd.read_json('/content/drive/MyDrive/Colab Notebooks/group_interactions.json',encoding='utf-8')\n"
      ],
      "execution_count": null,
      "outputs": []
    },
    {
      "cell_type": "code",
      "metadata": {
        "colab": {
          "base_uri": "https://localhost:8080/",
          "height": 80
        },
        "id": "wfkVl5xuLh5q",
        "outputId": "ad1b57c4-3e19-433f-b820-0d2aaadda90c"
      },
      "source": [
        "inter.head()"
      ],
      "execution_count": null,
      "outputs": [
        {
          "output_type": "execute_result",
          "data": {
            "text/html": [
              "<div>\n",
              "<style scoped>\n",
              "    .dataframe tbody tr th:only-of-type {\n",
              "        vertical-align: middle;\n",
              "    }\n",
              "\n",
              "    .dataframe tbody tr th {\n",
              "        vertical-align: top;\n",
              "    }\n",
              "\n",
              "    .dataframe thead th {\n",
              "        text-align: right;\n",
              "    }\n",
              "</style>\n",
              "<table border=\"1\" class=\"dataframe\">\n",
              "  <thead>\n",
              "    <tr style=\"text-align: right;\">\n",
              "      <th></th>\n",
              "      <th>group_interactions_v2</th>\n",
              "    </tr>\n",
              "  </thead>\n",
              "  <tbody>\n",
              "    <tr>\n",
              "      <th>0</th>\n",
              "      <td>{'name': '', 'description': '', 'entries': [{'...</td>\n",
              "    </tr>\n",
              "  </tbody>\n",
              "</table>\n",
              "</div>"
            ],
            "text/plain": [
              "                               group_interactions_v2\n",
              "0  {'name': '', 'description': '', 'entries': [{'..."
            ]
          },
          "metadata": {
            "tags": []
          },
          "execution_count": 19
        }
      ]
    },
    {
      "cell_type": "code",
      "metadata": {
        "id": "k6M3FE_NLlR-"
      },
      "source": [
        "entries=pd.json_normalize(inter['group_interactions_v2'])['entries']"
      ],
      "execution_count": null,
      "outputs": []
    },
    {
      "cell_type": "code",
      "metadata": {
        "colab": {
          "base_uri": "https://localhost:8080/"
        },
        "id": "9Gf-we04Ls-A",
        "outputId": "62808ba7-3792-46ad-d61e-cad4fb7f8ed3"
      },
      "source": [
        "type(entries)"
      ],
      "execution_count": null,
      "outputs": [
        {
          "output_type": "execute_result",
          "data": {
            "text/plain": [
              "pandas.core.series.Series"
            ]
          },
          "metadata": {
            "tags": []
          },
          "execution_count": 21
        }
      ]
    },
    {
      "cell_type": "code",
      "metadata": {
        "colab": {
          "base_uri": "https://localhost:8080/"
        },
        "id": "veu4CstqLwKs",
        "outputId": "b2233416-bcf1-4fc2-cf0d-6f0e141f8f72"
      },
      "source": [
        "entries.keys()"
      ],
      "execution_count": null,
      "outputs": [
        {
          "output_type": "execute_result",
          "data": {
            "text/plain": [
              "RangeIndex(start=0, stop=1, step=1)"
            ]
          },
          "metadata": {
            "tags": []
          },
          "execution_count": 22
        }
      ]
    },
    {
      "cell_type": "code",
      "metadata": {
        "colab": {
          "base_uri": "https://localhost:8080/",
          "height": 204
        },
        "id": "8n_YbxLvL0up",
        "outputId": "7138d685-98bf-47c5-9d23-42d6871c1ac8"
      },
      "source": [
        "name= pd.json_normalize(entries[0])\n",
        "name.head()"
      ],
      "execution_count": null,
      "outputs": [
        {
          "output_type": "execute_result",
          "data": {
            "text/html": [
              "<div>\n",
              "<style scoped>\n",
              "    .dataframe tbody tr th:only-of-type {\n",
              "        vertical-align: middle;\n",
              "    }\n",
              "\n",
              "    .dataframe tbody tr th {\n",
              "        vertical-align: top;\n",
              "    }\n",
              "\n",
              "    .dataframe thead th {\n",
              "        text-align: right;\n",
              "    }\n",
              "</style>\n",
              "<table border=\"1\" class=\"dataframe\">\n",
              "  <thead>\n",
              "    <tr style=\"text-align: right;\">\n",
              "      <th></th>\n",
              "      <th>data.name</th>\n",
              "      <th>data.value</th>\n",
              "      <th>data.uri</th>\n",
              "    </tr>\n",
              "  </thead>\n",
              "  <tbody>\n",
              "    <tr>\n",
              "      <th>0</th>\n",
              "      <td>Au Pair GrupÃ£o Brasil</td>\n",
              "      <td>1.271 vezes</td>\n",
              "      <td>https://www.facebook.com/groups/Aupairgrupaobr...</td>\n",
              "    </tr>\n",
              "    <tr>\n",
              "      <th>1</th>\n",
              "      <td>Liga dos Vestibulandos</td>\n",
              "      <td>1.059 vezes</td>\n",
              "      <td>https://www.facebook.com/groups/descomplicatur...</td>\n",
              "    </tr>\n",
              "    <tr>\n",
              "      <th>2</th>\n",
              "      <td>CACHEADAS EM TRANSIÃÃO</td>\n",
              "      <td>907 vezes</td>\n",
              "      <td>https://www.facebook.com/groups/883472135004229/</td>\n",
              "    </tr>\n",
              "    <tr>\n",
              "      <th>3</th>\n",
              "      <td>Meu cabelo tipo 4 Natural</td>\n",
              "      <td>690 vezes</td>\n",
              "      <td>https://www.facebook.com/groups/meucabelotipo4/</td>\n",
              "    </tr>\n",
              "    <tr>\n",
              "      <th>4</th>\n",
              "      <td>Cacheadas em TransiÃ§Ã£o(OFICIAL 2012)</td>\n",
              "      <td>344 vezes</td>\n",
              "      <td>https://www.facebook.com/groups/487145284650001/</td>\n",
              "    </tr>\n",
              "  </tbody>\n",
              "</table>\n",
              "</div>"
            ],
            "text/plain": [
              "                                data.name  ...                                           data.uri\n",
              "0                  Au Pair GrupÃ£o Brasil  ...  https://www.facebook.com/groups/Aupairgrupaobr...\n",
              "1                  Liga dos Vestibulandos  ...  https://www.facebook.com/groups/descomplicatur...\n",
              "2                CACHEADAS EM TRANSIÃÃO  ...   https://www.facebook.com/groups/883472135004229/\n",
              "3               Meu cabelo tipo 4 Natural  ...    https://www.facebook.com/groups/meucabelotipo4/\n",
              "4  Cacheadas em TransiÃ§Ã£o(OFICIAL 2012)  ...   https://www.facebook.com/groups/487145284650001/\n",
              "\n",
              "[5 rows x 3 columns]"
            ]
          },
          "metadata": {
            "tags": []
          },
          "execution_count": 26
        }
      ]
    },
    {
      "cell_type": "markdown",
      "metadata": {
        "id": "lnrb7Em2N1g6"
      },
      "source": [
        "### **Quais reações Juliana mais usa no Facebook?**\n"
      ]
    },
    {
      "cell_type": "markdown",
      "metadata": {
        "id": "Izb2CMpPa5FP"
      },
      "source": [
        "##### Conectando com o arquivo no google drive e criando um dataframe"
      ]
    },
    {
      "cell_type": "code",
      "metadata": {
        "id": "ebqNJFLmNiEw"
      },
      "source": [
        "reactions = pd.read_json('/content/drive/MyDrive/Colab Notebooks/posts_and_comments.json',encoding='utf-8')"
      ],
      "execution_count": null,
      "outputs": []
    },
    {
      "cell_type": "code",
      "metadata": {
        "colab": {
          "base_uri": "https://localhost:8080/",
          "height": 204
        },
        "id": "Yf0273qiw_R2",
        "outputId": "68895754-38c0-4f3e-f3b3-1e1a924a376d"
      },
      "source": [
        "reactions.head()"
      ],
      "execution_count": null,
      "outputs": [
        {
          "output_type": "execute_result",
          "data": {
            "text/html": [
              "<div>\n",
              "<style scoped>\n",
              "    .dataframe tbody tr th:only-of-type {\n",
              "        vertical-align: middle;\n",
              "    }\n",
              "\n",
              "    .dataframe tbody tr th {\n",
              "        vertical-align: top;\n",
              "    }\n",
              "\n",
              "    .dataframe thead th {\n",
              "        text-align: right;\n",
              "    }\n",
              "</style>\n",
              "<table border=\"1\" class=\"dataframe\">\n",
              "  <thead>\n",
              "    <tr style=\"text-align: right;\">\n",
              "      <th></th>\n",
              "      <th>reactions_v2</th>\n",
              "    </tr>\n",
              "  </thead>\n",
              "  <tbody>\n",
              "    <tr>\n",
              "      <th>0</th>\n",
              "      <td>{'timestamp': 1533354683, 'data': [{'reaction'...</td>\n",
              "    </tr>\n",
              "    <tr>\n",
              "      <th>1</th>\n",
              "      <td>{'timestamp': 1533381209, 'data': [{'reaction'...</td>\n",
              "    </tr>\n",
              "    <tr>\n",
              "      <th>2</th>\n",
              "      <td>{'timestamp': 1533381177, 'data': [{'reaction'...</td>\n",
              "    </tr>\n",
              "    <tr>\n",
              "      <th>3</th>\n",
              "      <td>{'timestamp': 1533354683, 'data': [{'reaction'...</td>\n",
              "    </tr>\n",
              "    <tr>\n",
              "      <th>4</th>\n",
              "      <td>{'timestamp': 1533550557, 'data': [{'reaction'...</td>\n",
              "    </tr>\n",
              "  </tbody>\n",
              "</table>\n",
              "</div>"
            ],
            "text/plain": [
              "                                        reactions_v2\n",
              "0  {'timestamp': 1533354683, 'data': [{'reaction'...\n",
              "1  {'timestamp': 1533381209, 'data': [{'reaction'...\n",
              "2  {'timestamp': 1533381177, 'data': [{'reaction'...\n",
              "3  {'timestamp': 1533354683, 'data': [{'reaction'...\n",
              "4  {'timestamp': 1533550557, 'data': [{'reaction'..."
            ]
          },
          "metadata": {
            "tags": []
          },
          "execution_count": 96
        }
      ]
    },
    {
      "cell_type": "code",
      "metadata": {
        "id": "LOP7nfvqOeRL"
      },
      "source": [
        "reactions2=pd.json_normalize(reactions['reactions_v2'], max_level=2)"
      ],
      "execution_count": null,
      "outputs": []
    },
    {
      "cell_type": "code",
      "metadata": {
        "colab": {
          "base_uri": "https://localhost:8080/",
          "height": 419
        },
        "id": "m64AwOCSOrwV",
        "outputId": "d8b28390-1bc9-444c-92df-3af911634c82"
      },
      "source": [
        "reactions2.explode('data')"
      ],
      "execution_count": null,
      "outputs": [
        {
          "output_type": "execute_result",
          "data": {
            "text/html": [
              "<div>\n",
              "<style scoped>\n",
              "    .dataframe tbody tr th:only-of-type {\n",
              "        vertical-align: middle;\n",
              "    }\n",
              "\n",
              "    .dataframe tbody tr th {\n",
              "        vertical-align: top;\n",
              "    }\n",
              "\n",
              "    .dataframe thead th {\n",
              "        text-align: right;\n",
              "    }\n",
              "</style>\n",
              "<table border=\"1\" class=\"dataframe\">\n",
              "  <thead>\n",
              "    <tr style=\"text-align: right;\">\n",
              "      <th></th>\n",
              "      <th>timestamp</th>\n",
              "      <th>data</th>\n",
              "      <th>title</th>\n",
              "      <th>attachments</th>\n",
              "    </tr>\n",
              "  </thead>\n",
              "  <tbody>\n",
              "    <tr>\n",
              "      <th>0</th>\n",
              "      <td>1533354683</td>\n",
              "      <td>{'reaction': {'reaction': 'LIKE', 'actor': 'Ju...</td>\n",
              "      <td>Juliana Santana curtiu a foto de Deysiane Mene...</td>\n",
              "      <td>NaN</td>\n",
              "    </tr>\n",
              "    <tr>\n",
              "      <th>1</th>\n",
              "      <td>1533381209</td>\n",
              "      <td>{'reaction': {'reaction': 'LIKE', 'actor': 'Ju...</td>\n",
              "      <td>Juliana Santana curtiu o comentÃ¡rio de Elber ...</td>\n",
              "      <td>NaN</td>\n",
              "    </tr>\n",
              "    <tr>\n",
              "      <th>2</th>\n",
              "      <td>1533381177</td>\n",
              "      <td>{'reaction': {'reaction': 'LIKE', 'actor': 'Ju...</td>\n",
              "      <td>Juliana Santana curtiu a foto de Quebrando o T...</td>\n",
              "      <td>NaN</td>\n",
              "    </tr>\n",
              "    <tr>\n",
              "      <th>3</th>\n",
              "      <td>1533354683</td>\n",
              "      <td>{'reaction': {'reaction': 'LIKE', 'actor': 'Ju...</td>\n",
              "      <td>Juliana Santana curtiu a foto de Deysiane Mene...</td>\n",
              "      <td>NaN</td>\n",
              "    </tr>\n",
              "    <tr>\n",
              "      <th>4</th>\n",
              "      <td>1533550557</td>\n",
              "      <td>{'reaction': {'reaction': 'SORRY', 'actor': 'J...</td>\n",
              "      <td>Juliana Santana reagiu a uma publicaÃ§Ã£o.</td>\n",
              "      <td>NaN</td>\n",
              "    </tr>\n",
              "    <tr>\n",
              "      <th>...</th>\n",
              "      <td>...</td>\n",
              "      <td>...</td>\n",
              "      <td>...</td>\n",
              "      <td>...</td>\n",
              "    </tr>\n",
              "    <tr>\n",
              "      <th>26221</th>\n",
              "      <td>1627950790</td>\n",
              "      <td>{'reaction': {'reaction': 'LOVE', 'actor': 'Ju...</td>\n",
              "      <td>Juliana Santana reagiu a uma publicaÃ§Ã£o.</td>\n",
              "      <td>NaN</td>\n",
              "    </tr>\n",
              "    <tr>\n",
              "      <th>26222</th>\n",
              "      <td>1627944100</td>\n",
              "      <td>{'reaction': {'reaction': 'LIKE', 'actor': 'Ju...</td>\n",
              "      <td>Juliana Santana curtiu o comentÃ¡rio de Bruno ...</td>\n",
              "      <td>NaN</td>\n",
              "    </tr>\n",
              "    <tr>\n",
              "      <th>26223</th>\n",
              "      <td>1627933141</td>\n",
              "      <td>{'reaction': {'reaction': 'LIKE', 'actor': 'Ju...</td>\n",
              "      <td>Juliana Santana curtiu o comentÃ¡rio de Samuel...</td>\n",
              "      <td>NaN</td>\n",
              "    </tr>\n",
              "    <tr>\n",
              "      <th>26224</th>\n",
              "      <td>1627932869</td>\n",
              "      <td>{'reaction': {'reaction': 'LIKE', 'actor': 'Ju...</td>\n",
              "      <td>Juliana Santana curtiu a foto de A Luta.</td>\n",
              "      <td>NaN</td>\n",
              "    </tr>\n",
              "    <tr>\n",
              "      <th>26225</th>\n",
              "      <td>1627932422</td>\n",
              "      <td>{'reaction': {'reaction': 'LIKE', 'actor': 'Ju...</td>\n",
              "      <td>Juliana Santana curtiu uma publicaÃ§Ã£o de Uer...</td>\n",
              "      <td>NaN</td>\n",
              "    </tr>\n",
              "  </tbody>\n",
              "</table>\n",
              "<p>26226 rows × 4 columns</p>\n",
              "</div>"
            ],
            "text/plain": [
              "        timestamp  ... attachments\n",
              "0      1533354683  ...         NaN\n",
              "1      1533381209  ...         NaN\n",
              "2      1533381177  ...         NaN\n",
              "3      1533354683  ...         NaN\n",
              "4      1533550557  ...         NaN\n",
              "...           ...  ...         ...\n",
              "26221  1627950790  ...         NaN\n",
              "26222  1627944100  ...         NaN\n",
              "26223  1627933141  ...         NaN\n",
              "26224  1627932869  ...         NaN\n",
              "26225  1627932422  ...         NaN\n",
              "\n",
              "[26226 rows x 4 columns]"
            ]
          },
          "metadata": {
            "tags": []
          },
          "execution_count": 98
        }
      ]
    },
    {
      "cell_type": "code",
      "metadata": {
        "id": "KRXj2UaPPLUX"
      },
      "source": [
        "reacoes_lista=[]\n",
        "for i in reactions2['data']:\n",
        "  reacoes_lista.append(i[0]['reaction']['reaction'])"
      ],
      "execution_count": null,
      "outputs": []
    },
    {
      "cell_type": "code",
      "metadata": {
        "id": "iFAY0RThPe5Y"
      },
      "source": [
        "lista = pd.Series(reacoes_lista)"
      ],
      "execution_count": null,
      "outputs": []
    },
    {
      "cell_type": "code",
      "metadata": {
        "id": "QaMVxvgRPh07"
      },
      "source": [
        "reactions2['reacoes']=lista"
      ],
      "execution_count": null,
      "outputs": []
    },
    {
      "cell_type": "code",
      "metadata": {
        "colab": {
          "base_uri": "https://localhost:8080/",
          "height": 204
        },
        "id": "FaPXBwtxPo22",
        "outputId": "51ec8d99-14d0-4e65-e4b6-f0a6c9533f62"
      },
      "source": [
        "reactions2.head()"
      ],
      "execution_count": null,
      "outputs": [
        {
          "output_type": "execute_result",
          "data": {
            "text/html": [
              "<div>\n",
              "<style scoped>\n",
              "    .dataframe tbody tr th:only-of-type {\n",
              "        vertical-align: middle;\n",
              "    }\n",
              "\n",
              "    .dataframe tbody tr th {\n",
              "        vertical-align: top;\n",
              "    }\n",
              "\n",
              "    .dataframe thead th {\n",
              "        text-align: right;\n",
              "    }\n",
              "</style>\n",
              "<table border=\"1\" class=\"dataframe\">\n",
              "  <thead>\n",
              "    <tr style=\"text-align: right;\">\n",
              "      <th></th>\n",
              "      <th>timestamp</th>\n",
              "      <th>data</th>\n",
              "      <th>title</th>\n",
              "      <th>attachments</th>\n",
              "      <th>reacoes</th>\n",
              "    </tr>\n",
              "  </thead>\n",
              "  <tbody>\n",
              "    <tr>\n",
              "      <th>0</th>\n",
              "      <td>1533354683</td>\n",
              "      <td>[{'reaction': {'reaction': 'LIKE', 'actor': 'J...</td>\n",
              "      <td>Juliana Santana curtiu a foto de Deysiane Mene...</td>\n",
              "      <td>NaN</td>\n",
              "      <td>LIKE</td>\n",
              "    </tr>\n",
              "    <tr>\n",
              "      <th>1</th>\n",
              "      <td>1533381209</td>\n",
              "      <td>[{'reaction': {'reaction': 'LIKE', 'actor': 'J...</td>\n",
              "      <td>Juliana Santana curtiu o comentÃ¡rio de Elber ...</td>\n",
              "      <td>NaN</td>\n",
              "      <td>LIKE</td>\n",
              "    </tr>\n",
              "    <tr>\n",
              "      <th>2</th>\n",
              "      <td>1533381177</td>\n",
              "      <td>[{'reaction': {'reaction': 'LIKE', 'actor': 'J...</td>\n",
              "      <td>Juliana Santana curtiu a foto de Quebrando o T...</td>\n",
              "      <td>NaN</td>\n",
              "      <td>LIKE</td>\n",
              "    </tr>\n",
              "    <tr>\n",
              "      <th>3</th>\n",
              "      <td>1533354683</td>\n",
              "      <td>[{'reaction': {'reaction': 'LIKE', 'actor': 'J...</td>\n",
              "      <td>Juliana Santana curtiu a foto de Deysiane Mene...</td>\n",
              "      <td>NaN</td>\n",
              "      <td>LIKE</td>\n",
              "    </tr>\n",
              "    <tr>\n",
              "      <th>4</th>\n",
              "      <td>1533550557</td>\n",
              "      <td>[{'reaction': {'reaction': 'SORRY', 'actor': '...</td>\n",
              "      <td>Juliana Santana reagiu a uma publicaÃ§Ã£o.</td>\n",
              "      <td>NaN</td>\n",
              "      <td>SORRY</td>\n",
              "    </tr>\n",
              "  </tbody>\n",
              "</table>\n",
              "</div>"
            ],
            "text/plain": [
              "    timestamp  ... reacoes\n",
              "0  1533354683  ...    LIKE\n",
              "1  1533381209  ...    LIKE\n",
              "2  1533381177  ...    LIKE\n",
              "3  1533354683  ...    LIKE\n",
              "4  1533550557  ...   SORRY\n",
              "\n",
              "[5 rows x 5 columns]"
            ]
          },
          "metadata": {
            "tags": []
          },
          "execution_count": 102
        }
      ]
    },
    {
      "cell_type": "code",
      "metadata": {
        "colab": {
          "base_uri": "https://localhost:8080/"
        },
        "id": "AyAmUAH2PunN",
        "outputId": "97f32dab-d50c-4727-e68a-7ef7dd49514c"
      },
      "source": [
        "reactions2['reacoes'].value_counts()"
      ],
      "execution_count": null,
      "outputs": [
        {
          "output_type": "execute_result",
          "data": {
            "text/plain": [
              "LIKE     16193\n",
              "HAHA      4979\n",
              "LOVE      3715\n",
              "ANGER      657\n",
              "SORRY      613\n",
              "WOW         69\n",
              "Name: reacoes, dtype: int64"
            ]
          },
          "metadata": {
            "tags": []
          },
          "execution_count": 103
        }
      ]
    },
    {
      "cell_type": "code",
      "metadata": {
        "colab": {
          "base_uri": "https://localhost:8080/",
          "height": 542
        },
        "id": "1XdjTGcLQDZb",
        "outputId": "1283738c-5cd9-4415-8c5a-fcf87503ec06"
      },
      "source": [
        "reactions2['reacoes'].value_counts().plot(kind='barh')"
      ],
      "execution_count": null,
      "outputs": [
        {
          "output_type": "display_data",
          "data": {
            "text/html": [
              "<html>\n",
              "<head><meta charset=\"utf-8\" /></head>\n",
              "<body>\n",
              "    <div>            <script src=\"https://cdnjs.cloudflare.com/ajax/libs/mathjax/2.7.5/MathJax.js?config=TeX-AMS-MML_SVG\"></script><script type=\"text/javascript\">if (window.MathJax) {MathJax.Hub.Config({SVG: {font: \"STIX-Web\"}});}</script>                <script type=\"text/javascript\">window.PlotlyConfig = {MathJaxConfig: 'local'};</script>\n",
              "        <script src=\"https://cdn.plot.ly/plotly-2.2.0.min.js\"></script>                <div id=\"35459224-6560-4fba-928b-ab1412ec8300\" class=\"plotly-graph-div\" style=\"height:525px; width:100%;\"></div>            <script type=\"text/javascript\">                                    window.PLOTLYENV=window.PLOTLYENV || {};                                    if (document.getElementById(\"35459224-6560-4fba-928b-ab1412ec8300\")) {                    Plotly.newPlot(                        \"35459224-6560-4fba-928b-ab1412ec8300\",                        [{\"alignmentgroup\":\"True\",\"hovertemplate\":\"variable=reacoes<br>value=%{x}<br>index=%{y}<extra></extra>\",\"legendgroup\":\"reacoes\",\"marker\":{\"color\":\"#636efa\",\"pattern\":{\"shape\":\"\"}},\"name\":\"reacoes\",\"offsetgroup\":\"reacoes\",\"orientation\":\"h\",\"showlegend\":true,\"textposition\":\"auto\",\"type\":\"bar\",\"x\":[16193,4979,3715,657,613,69],\"xaxis\":\"x\",\"y\":[\"LIKE\",\"HAHA\",\"LOVE\",\"ANGER\",\"SORRY\",\"WOW\"],\"yaxis\":\"y\"}],                        {\"barmode\":\"relative\",\"legend\":{\"title\":{\"text\":\"variable\"},\"tracegroupgap\":0},\"margin\":{\"t\":60},\"template\":{\"data\":{\"bar\":[{\"error_x\":{\"color\":\"#2a3f5f\"},\"error_y\":{\"color\":\"#2a3f5f\"},\"marker\":{\"line\":{\"color\":\"#E5ECF6\",\"width\":0.5},\"pattern\":{\"fillmode\":\"overlay\",\"size\":10,\"solidity\":0.2}},\"type\":\"bar\"}],\"barpolar\":[{\"marker\":{\"line\":{\"color\":\"#E5ECF6\",\"width\":0.5},\"pattern\":{\"fillmode\":\"overlay\",\"size\":10,\"solidity\":0.2}},\"type\":\"barpolar\"}],\"carpet\":[{\"aaxis\":{\"endlinecolor\":\"#2a3f5f\",\"gridcolor\":\"white\",\"linecolor\":\"white\",\"minorgridcolor\":\"white\",\"startlinecolor\":\"#2a3f5f\"},\"baxis\":{\"endlinecolor\":\"#2a3f5f\",\"gridcolor\":\"white\",\"linecolor\":\"white\",\"minorgridcolor\":\"white\",\"startlinecolor\":\"#2a3f5f\"},\"type\":\"carpet\"}],\"choropleth\":[{\"colorbar\":{\"outlinewidth\":0,\"ticks\":\"\"},\"type\":\"choropleth\"}],\"contour\":[{\"colorbar\":{\"outlinewidth\":0,\"ticks\":\"\"},\"colorscale\":[[0.0,\"#0d0887\"],[0.1111111111111111,\"#46039f\"],[0.2222222222222222,\"#7201a8\"],[0.3333333333333333,\"#9c179e\"],[0.4444444444444444,\"#bd3786\"],[0.5555555555555556,\"#d8576b\"],[0.6666666666666666,\"#ed7953\"],[0.7777777777777778,\"#fb9f3a\"],[0.8888888888888888,\"#fdca26\"],[1.0,\"#f0f921\"]],\"type\":\"contour\"}],\"contourcarpet\":[{\"colorbar\":{\"outlinewidth\":0,\"ticks\":\"\"},\"type\":\"contourcarpet\"}],\"heatmap\":[{\"colorbar\":{\"outlinewidth\":0,\"ticks\":\"\"},\"colorscale\":[[0.0,\"#0d0887\"],[0.1111111111111111,\"#46039f\"],[0.2222222222222222,\"#7201a8\"],[0.3333333333333333,\"#9c179e\"],[0.4444444444444444,\"#bd3786\"],[0.5555555555555556,\"#d8576b\"],[0.6666666666666666,\"#ed7953\"],[0.7777777777777778,\"#fb9f3a\"],[0.8888888888888888,\"#fdca26\"],[1.0,\"#f0f921\"]],\"type\":\"heatmap\"}],\"heatmapgl\":[{\"colorbar\":{\"outlinewidth\":0,\"ticks\":\"\"},\"colorscale\":[[0.0,\"#0d0887\"],[0.1111111111111111,\"#46039f\"],[0.2222222222222222,\"#7201a8\"],[0.3333333333333333,\"#9c179e\"],[0.4444444444444444,\"#bd3786\"],[0.5555555555555556,\"#d8576b\"],[0.6666666666666666,\"#ed7953\"],[0.7777777777777778,\"#fb9f3a\"],[0.8888888888888888,\"#fdca26\"],[1.0,\"#f0f921\"]],\"type\":\"heatmapgl\"}],\"histogram\":[{\"marker\":{\"pattern\":{\"fillmode\":\"overlay\",\"size\":10,\"solidity\":0.2}},\"type\":\"histogram\"}],\"histogram2d\":[{\"colorbar\":{\"outlinewidth\":0,\"ticks\":\"\"},\"colorscale\":[[0.0,\"#0d0887\"],[0.1111111111111111,\"#46039f\"],[0.2222222222222222,\"#7201a8\"],[0.3333333333333333,\"#9c179e\"],[0.4444444444444444,\"#bd3786\"],[0.5555555555555556,\"#d8576b\"],[0.6666666666666666,\"#ed7953\"],[0.7777777777777778,\"#fb9f3a\"],[0.8888888888888888,\"#fdca26\"],[1.0,\"#f0f921\"]],\"type\":\"histogram2d\"}],\"histogram2dcontour\":[{\"colorbar\":{\"outlinewidth\":0,\"ticks\":\"\"},\"colorscale\":[[0.0,\"#0d0887\"],[0.1111111111111111,\"#46039f\"],[0.2222222222222222,\"#7201a8\"],[0.3333333333333333,\"#9c179e\"],[0.4444444444444444,\"#bd3786\"],[0.5555555555555556,\"#d8576b\"],[0.6666666666666666,\"#ed7953\"],[0.7777777777777778,\"#fb9f3a\"],[0.8888888888888888,\"#fdca26\"],[1.0,\"#f0f921\"]],\"type\":\"histogram2dcontour\"}],\"mesh3d\":[{\"colorbar\":{\"outlinewidth\":0,\"ticks\":\"\"},\"type\":\"mesh3d\"}],\"parcoords\":[{\"line\":{\"colorbar\":{\"outlinewidth\":0,\"ticks\":\"\"}},\"type\":\"parcoords\"}],\"pie\":[{\"automargin\":true,\"type\":\"pie\"}],\"scatter\":[{\"marker\":{\"colorbar\":{\"outlinewidth\":0,\"ticks\":\"\"}},\"type\":\"scatter\"}],\"scatter3d\":[{\"line\":{\"colorbar\":{\"outlinewidth\":0,\"ticks\":\"\"}},\"marker\":{\"colorbar\":{\"outlinewidth\":0,\"ticks\":\"\"}},\"type\":\"scatter3d\"}],\"scattercarpet\":[{\"marker\":{\"colorbar\":{\"outlinewidth\":0,\"ticks\":\"\"}},\"type\":\"scattercarpet\"}],\"scattergeo\":[{\"marker\":{\"colorbar\":{\"outlinewidth\":0,\"ticks\":\"\"}},\"type\":\"scattergeo\"}],\"scattergl\":[{\"marker\":{\"colorbar\":{\"outlinewidth\":0,\"ticks\":\"\"}},\"type\":\"scattergl\"}],\"scattermapbox\":[{\"marker\":{\"colorbar\":{\"outlinewidth\":0,\"ticks\":\"\"}},\"type\":\"scattermapbox\"}],\"scatterpolar\":[{\"marker\":{\"colorbar\":{\"outlinewidth\":0,\"ticks\":\"\"}},\"type\":\"scatterpolar\"}],\"scatterpolargl\":[{\"marker\":{\"colorbar\":{\"outlinewidth\":0,\"ticks\":\"\"}},\"type\":\"scatterpolargl\"}],\"scatterternary\":[{\"marker\":{\"colorbar\":{\"outlinewidth\":0,\"ticks\":\"\"}},\"type\":\"scatterternary\"}],\"surface\":[{\"colorbar\":{\"outlinewidth\":0,\"ticks\":\"\"},\"colorscale\":[[0.0,\"#0d0887\"],[0.1111111111111111,\"#46039f\"],[0.2222222222222222,\"#7201a8\"],[0.3333333333333333,\"#9c179e\"],[0.4444444444444444,\"#bd3786\"],[0.5555555555555556,\"#d8576b\"],[0.6666666666666666,\"#ed7953\"],[0.7777777777777778,\"#fb9f3a\"],[0.8888888888888888,\"#fdca26\"],[1.0,\"#f0f921\"]],\"type\":\"surface\"}],\"table\":[{\"cells\":{\"fill\":{\"color\":\"#EBF0F8\"},\"line\":{\"color\":\"white\"}},\"header\":{\"fill\":{\"color\":\"#C8D4E3\"},\"line\":{\"color\":\"white\"}},\"type\":\"table\"}]},\"layout\":{\"annotationdefaults\":{\"arrowcolor\":\"#2a3f5f\",\"arrowhead\":0,\"arrowwidth\":1},\"autotypenumbers\":\"strict\",\"coloraxis\":{\"colorbar\":{\"outlinewidth\":0,\"ticks\":\"\"}},\"colorscale\":{\"diverging\":[[0,\"#8e0152\"],[0.1,\"#c51b7d\"],[0.2,\"#de77ae\"],[0.3,\"#f1b6da\"],[0.4,\"#fde0ef\"],[0.5,\"#f7f7f7\"],[0.6,\"#e6f5d0\"],[0.7,\"#b8e186\"],[0.8,\"#7fbc41\"],[0.9,\"#4d9221\"],[1,\"#276419\"]],\"sequential\":[[0.0,\"#0d0887\"],[0.1111111111111111,\"#46039f\"],[0.2222222222222222,\"#7201a8\"],[0.3333333333333333,\"#9c179e\"],[0.4444444444444444,\"#bd3786\"],[0.5555555555555556,\"#d8576b\"],[0.6666666666666666,\"#ed7953\"],[0.7777777777777778,\"#fb9f3a\"],[0.8888888888888888,\"#fdca26\"],[1.0,\"#f0f921\"]],\"sequentialminus\":[[0.0,\"#0d0887\"],[0.1111111111111111,\"#46039f\"],[0.2222222222222222,\"#7201a8\"],[0.3333333333333333,\"#9c179e\"],[0.4444444444444444,\"#bd3786\"],[0.5555555555555556,\"#d8576b\"],[0.6666666666666666,\"#ed7953\"],[0.7777777777777778,\"#fb9f3a\"],[0.8888888888888888,\"#fdca26\"],[1.0,\"#f0f921\"]]},\"colorway\":[\"#636efa\",\"#EF553B\",\"#00cc96\",\"#ab63fa\",\"#FFA15A\",\"#19d3f3\",\"#FF6692\",\"#B6E880\",\"#FF97FF\",\"#FECB52\"],\"font\":{\"color\":\"#2a3f5f\"},\"geo\":{\"bgcolor\":\"white\",\"lakecolor\":\"white\",\"landcolor\":\"#E5ECF6\",\"showlakes\":true,\"showland\":true,\"subunitcolor\":\"white\"},\"hoverlabel\":{\"align\":\"left\"},\"hovermode\":\"closest\",\"mapbox\":{\"style\":\"light\"},\"paper_bgcolor\":\"white\",\"plot_bgcolor\":\"#E5ECF6\",\"polar\":{\"angularaxis\":{\"gridcolor\":\"white\",\"linecolor\":\"white\",\"ticks\":\"\"},\"bgcolor\":\"#E5ECF6\",\"radialaxis\":{\"gridcolor\":\"white\",\"linecolor\":\"white\",\"ticks\":\"\"}},\"scene\":{\"xaxis\":{\"backgroundcolor\":\"#E5ECF6\",\"gridcolor\":\"white\",\"gridwidth\":2,\"linecolor\":\"white\",\"showbackground\":true,\"ticks\":\"\",\"zerolinecolor\":\"white\"},\"yaxis\":{\"backgroundcolor\":\"#E5ECF6\",\"gridcolor\":\"white\",\"gridwidth\":2,\"linecolor\":\"white\",\"showbackground\":true,\"ticks\":\"\",\"zerolinecolor\":\"white\"},\"zaxis\":{\"backgroundcolor\":\"#E5ECF6\",\"gridcolor\":\"white\",\"gridwidth\":2,\"linecolor\":\"white\",\"showbackground\":true,\"ticks\":\"\",\"zerolinecolor\":\"white\"}},\"shapedefaults\":{\"line\":{\"color\":\"#2a3f5f\"}},\"ternary\":{\"aaxis\":{\"gridcolor\":\"white\",\"linecolor\":\"white\",\"ticks\":\"\"},\"baxis\":{\"gridcolor\":\"white\",\"linecolor\":\"white\",\"ticks\":\"\"},\"bgcolor\":\"#E5ECF6\",\"caxis\":{\"gridcolor\":\"white\",\"linecolor\":\"white\",\"ticks\":\"\"}},\"title\":{\"x\":0.05},\"xaxis\":{\"automargin\":true,\"gridcolor\":\"white\",\"linecolor\":\"white\",\"ticks\":\"\",\"title\":{\"standoff\":15},\"zerolinecolor\":\"white\",\"zerolinewidth\":2},\"yaxis\":{\"automargin\":true,\"gridcolor\":\"white\",\"linecolor\":\"white\",\"ticks\":\"\",\"title\":{\"standoff\":15},\"zerolinecolor\":\"white\",\"zerolinewidth\":2}}},\"xaxis\":{\"anchor\":\"y\",\"domain\":[0.0,1.0],\"title\":{\"text\":\"value\"}},\"yaxis\":{\"anchor\":\"x\",\"domain\":[0.0,1.0],\"title\":{\"text\":\"index\"}}},                        {\"responsive\": true}                    ).then(function(){\n",
              "                            \n",
              "var gd = document.getElementById('35459224-6560-4fba-928b-ab1412ec8300');\n",
              "var x = new MutationObserver(function (mutations, observer) {{\n",
              "        var display = window.getComputedStyle(gd).display;\n",
              "        if (!display || display === 'none') {{\n",
              "            console.log([gd, 'removed!']);\n",
              "            Plotly.purge(gd);\n",
              "            observer.disconnect();\n",
              "        }}\n",
              "}});\n",
              "\n",
              "// Listen for the removal of the full notebook cells\n",
              "var notebookContainer = gd.closest('#notebook-container');\n",
              "if (notebookContainer) {{\n",
              "    x.observe(notebookContainer, {childList: true});\n",
              "}}\n",
              "\n",
              "// Listen for the clearing of the current output cell\n",
              "var outputEl = gd.closest('.output');\n",
              "if (outputEl) {{\n",
              "    x.observe(outputEl, {childList: true});\n",
              "}}\n",
              "\n",
              "                        })                };                            </script>        </div>\n",
              "</body>\n",
              "</html>"
            ]
          },
          "metadata": {
            "tags": []
          }
        }
      ]
    },
    {
      "cell_type": "markdown",
      "metadata": {
        "id": "L984Q0djbJ0b"
      },
      "source": [
        "##### Transformando o dataframe em csv"
      ]
    },
    {
      "cell_type": "code",
      "metadata": {
        "id": "travsuWyJpzf"
      },
      "source": [
        "reactions2.to_csv('reacoes.csv')"
      ],
      "execution_count": null,
      "outputs": []
    },
    {
      "cell_type": "markdown",
      "metadata": {
        "id": "__GIzRUgQfs_"
      },
      "source": [
        "### **Quais perfis no Facebook Juliana mais deu like?**\n"
      ]
    },
    {
      "cell_type": "code",
      "metadata": {
        "id": "ISyLLduRxdoj"
      },
      "source": [
        " visitas = pd.read_json('/content/drive/MyDrive/Colab Notebooks/visitas_perfis_page_noface.json',encoding='utf-8')"
      ],
      "execution_count": null,
      "outputs": []
    },
    {
      "cell_type": "code",
      "metadata": {
        "colab": {
          "base_uri": "https://localhost:8080/",
          "height": 204
        },
        "id": "dCUf4AQHx7Ht",
        "outputId": "e1310ce4-6ea0-46cb-a0c8-550c4de636fd"
      },
      "source": [
        "visitas.head()"
      ],
      "execution_count": null,
      "outputs": [
        {
          "output_type": "execute_result",
          "data": {
            "text/html": [
              "<div>\n",
              "<style scoped>\n",
              "    .dataframe tbody tr th:only-of-type {\n",
              "        vertical-align: middle;\n",
              "    }\n",
              "\n",
              "    .dataframe tbody tr th {\n",
              "        vertical-align: top;\n",
              "    }\n",
              "\n",
              "    .dataframe thead th {\n",
              "        text-align: right;\n",
              "    }\n",
              "</style>\n",
              "<table border=\"1\" class=\"dataframe\">\n",
              "  <thead>\n",
              "    <tr style=\"text-align: right;\">\n",
              "      <th></th>\n",
              "      <th>visited_things_v2</th>\n",
              "    </tr>\n",
              "  </thead>\n",
              "  <tbody>\n",
              "    <tr>\n",
              "      <th>0</th>\n",
              "      <td>{'name': 'Visitas ao perfil', 'description': '...</td>\n",
              "    </tr>\n",
              "    <tr>\n",
              "      <th>1</th>\n",
              "      <td>{'name': 'Visitas Ã  PÃ¡gina', 'description': ...</td>\n",
              "    </tr>\n",
              "    <tr>\n",
              "      <th>2</th>\n",
              "      <td>{'name': 'Eventos visitados', 'description': '...</td>\n",
              "    </tr>\n",
              "    <tr>\n",
              "      <th>3</th>\n",
              "      <td>{'name': 'Grupos visitados', 'description': 'G...</td>\n",
              "    </tr>\n",
              "    <tr>\n",
              "      <th>4</th>\n",
              "      <td>{'name': 'Visitas ao Marketplace', 'descriptio...</td>\n",
              "    </tr>\n",
              "  </tbody>\n",
              "</table>\n",
              "</div>"
            ],
            "text/plain": [
              "                                   visited_things_v2\n",
              "0  {'name': 'Visitas ao perfil', 'description': '...\n",
              "1  {'name': 'Visitas Ã  PÃ¡gina', 'description': ...\n",
              "2  {'name': 'Eventos visitados', 'description': '...\n",
              "3  {'name': 'Grupos visitados', 'description': 'G...\n",
              "4  {'name': 'Visitas ao Marketplace', 'descriptio..."
            ]
          },
          "metadata": {
            "tags": []
          },
          "execution_count": 38
        }
      ]
    },
    {
      "cell_type": "code",
      "metadata": {
        "id": "2Qyr4EdF23oj"
      },
      "source": [
        "description=pd.json_normalize(visitas['visited_things_v2'])\n"
      ],
      "execution_count": null,
      "outputs": []
    },
    {
      "cell_type": "code",
      "metadata": {
        "colab": {
          "base_uri": "https://localhost:8080/"
        },
        "id": "5CoO6zmw3Hfa",
        "outputId": "fe717d5c-bd3d-4765-8395-81468ba086bf"
      },
      "source": [
        "type(name)"
      ],
      "execution_count": null,
      "outputs": [
        {
          "output_type": "execute_result",
          "data": {
            "text/plain": [
              "pandas.core.frame.DataFrame"
            ]
          },
          "metadata": {
            "tags": []
          },
          "execution_count": 40
        }
      ]
    },
    {
      "cell_type": "code",
      "metadata": {
        "id": "-Bt2Q7rA3Nve"
      },
      "source": [
        "name=name.to_dict()"
      ],
      "execution_count": null,
      "outputs": []
    },
    {
      "cell_type": "code",
      "metadata": {
        "id": "r8rJVFxN3XuL",
        "colab": {
          "base_uri": "https://localhost:8080/"
        },
        "outputId": "c3208c62-b5aa-4488-9614-6e998e90598c"
      },
      "source": [
        "name.keys()"
      ],
      "execution_count": null,
      "outputs": [
        {
          "output_type": "execute_result",
          "data": {
            "text/plain": [
              "dict_keys(['data.name', 'data.value', 'data.uri'])"
            ]
          },
          "metadata": {
            "tags": []
          },
          "execution_count": 42
        }
      ]
    },
    {
      "cell_type": "markdown",
      "metadata": {
        "id": "rrnTcaH2yoid"
      },
      "source": [
        "## **Dados Instagram - Limpeza + Análise**"
      ]
    },
    {
      "cell_type": "markdown",
      "metadata": {
        "id": "Wjwo3Damb_aa"
      },
      "source": [
        "##### Conectando com o arquivo no google drive e criando um dataframe"
      ]
    },
    {
      "cell_type": "code",
      "metadata": {
        "colab": {
          "base_uri": "https://localhost:8080/",
          "height": 204
        },
        "id": "tC1-Un8az-Rw",
        "outputId": "44229a75-a36b-4493-9599-19982a06f297"
      },
      "source": [
        "likes = pd.read_json('/content/drive/MyDrive/Colab Notebooks/curtidas.json',\n",
        "                     encoding='UTF-8')\n",
        "likes.head()"
      ],
      "execution_count": null,
      "outputs": [
        {
          "output_type": "execute_result",
          "data": {
            "text/html": [
              "<div>\n",
              "<style scoped>\n",
              "    .dataframe tbody tr th:only-of-type {\n",
              "        vertical-align: middle;\n",
              "    }\n",
              "\n",
              "    .dataframe tbody tr th {\n",
              "        vertical-align: top;\n",
              "    }\n",
              "\n",
              "    .dataframe thead th {\n",
              "        text-align: right;\n",
              "    }\n",
              "</style>\n",
              "<table border=\"1\" class=\"dataframe\">\n",
              "  <thead>\n",
              "    <tr style=\"text-align: right;\">\n",
              "      <th></th>\n",
              "      <th>likes_media_likes</th>\n",
              "    </tr>\n",
              "  </thead>\n",
              "  <tbody>\n",
              "    <tr>\n",
              "      <th>0</th>\n",
              "      <td>{'title': 'c.syresmith', 'media_list_data': []...</td>\n",
              "    </tr>\n",
              "    <tr>\n",
              "      <th>1</th>\n",
              "      <td>{'title': 'toupassada', 'media_list_data': [],...</td>\n",
              "    </tr>\n",
              "    <tr>\n",
              "      <th>2</th>\n",
              "      <td>{'title': 'sarcasmofeminino', 'media_list_data...</td>\n",
              "    </tr>\n",
              "    <tr>\n",
              "      <th>3</th>\n",
              "      <td>{'title': 'sarcasmofeminino', 'media_list_data...</td>\n",
              "    </tr>\n",
              "    <tr>\n",
              "      <th>4</th>\n",
              "      <td>{'title': 'sarcasmofeminino', 'media_list_data...</td>\n",
              "    </tr>\n",
              "  </tbody>\n",
              "</table>\n",
              "</div>"
            ],
            "text/plain": [
              "                                   likes_media_likes\n",
              "0  {'title': 'c.syresmith', 'media_list_data': []...\n",
              "1  {'title': 'toupassada', 'media_list_data': [],...\n",
              "2  {'title': 'sarcasmofeminino', 'media_list_data...\n",
              "3  {'title': 'sarcasmofeminino', 'media_list_data...\n",
              "4  {'title': 'sarcasmofeminino', 'media_list_data..."
            ]
          },
          "metadata": {
            "tags": []
          },
          "execution_count": 70
        }
      ]
    },
    {
      "cell_type": "code",
      "metadata": {
        "colab": {
          "base_uri": "https://localhost:8080/"
        },
        "id": "l7KXmRc90h1g",
        "outputId": "5b278d76-d83f-4ac5-c6b3-448ca43d5458"
      },
      "source": [
        "timestamp = pd.json_normalize(likes[\"likes_media_likes\"],\n",
        "                              \"string_list_data\")['timestamp']\n",
        "timestamp"
      ],
      "execution_count": null,
      "outputs": [
        {
          "output_type": "execute_result",
          "data": {
            "text/plain": [
              "0        1423748154\n",
              "1        1423656851\n",
              "2        1423654789\n",
              "3        1423604908\n",
              "4        1423604872\n",
              "            ...    \n",
              "28315    1614204806\n",
              "28316    1614204800\n",
              "28317    1614204783\n",
              "28318    1614204781\n",
              "28319    1614204779\n",
              "Name: timestamp, Length: 28320, dtype: int64"
            ]
          },
          "metadata": {
            "tags": []
          },
          "execution_count": 71
        }
      ]
    },
    {
      "cell_type": "code",
      "metadata": {
        "colab": {
          "base_uri": "https://localhost:8080/"
        },
        "id": "ZkQf67A40rWl",
        "outputId": "79682036-a974-4036-ae88-0847bfb17474"
      },
      "source": [
        "title = pd.json_normalize(likes[\"likes_media_likes\"])[\"title\"]\n",
        "title"
      ],
      "execution_count": null,
      "outputs": [
        {
          "output_type": "execute_result",
          "data": {
            "text/plain": [
              "0             c.syresmith\n",
              "1              toupassada\n",
              "2        sarcasmofeminino\n",
              "3        sarcasmofeminino\n",
              "4        sarcasmofeminino\n",
              "               ...       \n",
              "28315      burgerdaybrasa\n",
              "28316        julyvenancio\n",
              "28317            juliette\n",
              "28318              anitta\n",
              "28319     taosonhadolar37\n",
              "Name: title, Length: 28320, dtype: object"
            ]
          },
          "metadata": {
            "tags": []
          },
          "execution_count": 72
        }
      ]
    },
    {
      "cell_type": "code",
      "metadata": {
        "colab": {
          "base_uri": "https://localhost:8080/",
          "height": 204
        },
        "id": "aH88eGpr0xEK",
        "outputId": "76c7d27a-4107-44f4-ddde-ca68634c3e39"
      },
      "source": [
        "data = {\n",
        "    'title': title,\n",
        "    'timestamp': timestamp \n",
        "}\n",
        "\n",
        "likes = pd.concat(data, axis = 1)\n",
        "\n",
        "likes.head()"
      ],
      "execution_count": null,
      "outputs": [
        {
          "output_type": "execute_result",
          "data": {
            "text/html": [
              "<div>\n",
              "<style scoped>\n",
              "    .dataframe tbody tr th:only-of-type {\n",
              "        vertical-align: middle;\n",
              "    }\n",
              "\n",
              "    .dataframe tbody tr th {\n",
              "        vertical-align: top;\n",
              "    }\n",
              "\n",
              "    .dataframe thead th {\n",
              "        text-align: right;\n",
              "    }\n",
              "</style>\n",
              "<table border=\"1\" class=\"dataframe\">\n",
              "  <thead>\n",
              "    <tr style=\"text-align: right;\">\n",
              "      <th></th>\n",
              "      <th>title</th>\n",
              "      <th>timestamp</th>\n",
              "    </tr>\n",
              "  </thead>\n",
              "  <tbody>\n",
              "    <tr>\n",
              "      <th>0</th>\n",
              "      <td>c.syresmith</td>\n",
              "      <td>1423748154</td>\n",
              "    </tr>\n",
              "    <tr>\n",
              "      <th>1</th>\n",
              "      <td>toupassada</td>\n",
              "      <td>1423656851</td>\n",
              "    </tr>\n",
              "    <tr>\n",
              "      <th>2</th>\n",
              "      <td>sarcasmofeminino</td>\n",
              "      <td>1423654789</td>\n",
              "    </tr>\n",
              "    <tr>\n",
              "      <th>3</th>\n",
              "      <td>sarcasmofeminino</td>\n",
              "      <td>1423604908</td>\n",
              "    </tr>\n",
              "    <tr>\n",
              "      <th>4</th>\n",
              "      <td>sarcasmofeminino</td>\n",
              "      <td>1423604872</td>\n",
              "    </tr>\n",
              "  </tbody>\n",
              "</table>\n",
              "</div>"
            ],
            "text/plain": [
              "              title   timestamp\n",
              "0       c.syresmith  1423748154\n",
              "1        toupassada  1423656851\n",
              "2  sarcasmofeminino  1423654789\n",
              "3  sarcasmofeminino  1423604908\n",
              "4  sarcasmofeminino  1423604872"
            ]
          },
          "metadata": {
            "tags": []
          },
          "execution_count": 73
        }
      ]
    },
    {
      "cell_type": "code",
      "metadata": {
        "colab": {
          "base_uri": "https://localhost:8080/"
        },
        "id": "kiY8AmSv09Rs",
        "outputId": "0bbbeda0-cf6f-4af0-eee3-6ac3a88306b0"
      },
      "source": [
        "likes.shape"
      ],
      "execution_count": null,
      "outputs": [
        {
          "output_type": "execute_result",
          "data": {
            "text/plain": [
              "(28320, 2)"
            ]
          },
          "metadata": {
            "tags": []
          },
          "execution_count": 74
        }
      ]
    },
    {
      "cell_type": "code",
      "metadata": {
        "colab": {
          "base_uri": "https://localhost:8080/"
        },
        "id": "Go_UEG3Y0-kK",
        "outputId": "7b6c59ce-7588-4be3-9305-90efede2529d"
      },
      "source": [
        "likes.info()"
      ],
      "execution_count": null,
      "outputs": [
        {
          "output_type": "stream",
          "text": [
            "<class 'pandas.core.frame.DataFrame'>\n",
            "RangeIndex: 28320 entries, 0 to 28319\n",
            "Data columns (total 2 columns):\n",
            " #   Column     Non-Null Count  Dtype \n",
            "---  ------     --------------  ----- \n",
            " 0   title      28320 non-null  object\n",
            " 1   timestamp  28320 non-null  int64 \n",
            "dtypes: int64(1), object(1)\n",
            "memory usage: 442.6+ KB\n"
          ],
          "name": "stdout"
        }
      ]
    },
    {
      "cell_type": "code",
      "metadata": {
        "colab": {
          "base_uri": "https://localhost:8080/",
          "height": 297
        },
        "id": "EPPwWUcW3TEy",
        "outputId": "7e52d253-2394-4d52-b069-a7df92111f4d"
      },
      "source": [
        "likes.describe()"
      ],
      "execution_count": null,
      "outputs": [
        {
          "output_type": "execute_result",
          "data": {
            "text/html": [
              "<div>\n",
              "<style scoped>\n",
              "    .dataframe tbody tr th:only-of-type {\n",
              "        vertical-align: middle;\n",
              "    }\n",
              "\n",
              "    .dataframe tbody tr th {\n",
              "        vertical-align: top;\n",
              "    }\n",
              "\n",
              "    .dataframe thead th {\n",
              "        text-align: right;\n",
              "    }\n",
              "</style>\n",
              "<table border=\"1\" class=\"dataframe\">\n",
              "  <thead>\n",
              "    <tr style=\"text-align: right;\">\n",
              "      <th></th>\n",
              "      <th>timestamp</th>\n",
              "    </tr>\n",
              "  </thead>\n",
              "  <tbody>\n",
              "    <tr>\n",
              "      <th>count</th>\n",
              "      <td>2.832000e+04</td>\n",
              "    </tr>\n",
              "    <tr>\n",
              "      <th>mean</th>\n",
              "      <td>1.528106e+09</td>\n",
              "    </tr>\n",
              "    <tr>\n",
              "      <th>std</th>\n",
              "      <td>6.122442e+07</td>\n",
              "    </tr>\n",
              "    <tr>\n",
              "      <th>min</th>\n",
              "      <td>1.368035e+09</td>\n",
              "    </tr>\n",
              "    <tr>\n",
              "      <th>25%</th>\n",
              "      <td>1.478789e+09</td>\n",
              "    </tr>\n",
              "    <tr>\n",
              "      <th>50%</th>\n",
              "      <td>1.523656e+09</td>\n",
              "    </tr>\n",
              "    <tr>\n",
              "      <th>75%</th>\n",
              "      <td>1.590717e+09</td>\n",
              "    </tr>\n",
              "    <tr>\n",
              "      <th>max</th>\n",
              "      <td>1.626556e+09</td>\n",
              "    </tr>\n",
              "  </tbody>\n",
              "</table>\n",
              "</div>"
            ],
            "text/plain": [
              "          timestamp\n",
              "count  2.832000e+04\n",
              "mean   1.528106e+09\n",
              "std    6.122442e+07\n",
              "min    1.368035e+09\n",
              "25%    1.478789e+09\n",
              "50%    1.523656e+09\n",
              "75%    1.590717e+09\n",
              "max    1.626556e+09"
            ]
          },
          "metadata": {
            "tags": []
          },
          "execution_count": 76
        }
      ]
    },
    {
      "cell_type": "markdown",
      "metadata": {
        "id": "rnv1vXKhfiVO"
      },
      "source": [
        "###### convertendo timestamp para datetime\n"
      ]
    },
    {
      "cell_type": "code",
      "metadata": {
        "id": "25oJRVA41GVc"
      },
      "source": [
        "likes['timestamp'] = pd.to_datetime(likes['timestamp'], unit='s')"
      ],
      "execution_count": null,
      "outputs": []
    },
    {
      "cell_type": "code",
      "metadata": {
        "colab": {
          "base_uri": "https://localhost:8080/"
        },
        "id": "y54ZISgM1Jas",
        "outputId": "70b36f0b-631c-494a-d063-9ec0fbfe6f8e"
      },
      "source": [
        "likes.info()"
      ],
      "execution_count": null,
      "outputs": [
        {
          "output_type": "stream",
          "text": [
            "<class 'pandas.core.frame.DataFrame'>\n",
            "RangeIndex: 28320 entries, 0 to 28319\n",
            "Data columns (total 2 columns):\n",
            " #   Column     Non-Null Count  Dtype         \n",
            "---  ------     --------------  -----         \n",
            " 0   title      28320 non-null  object        \n",
            " 1   timestamp  28320 non-null  datetime64[ns]\n",
            "dtypes: datetime64[ns](1), object(1)\n",
            "memory usage: 442.6+ KB\n"
          ],
          "name": "stdout"
        }
      ]
    },
    {
      "cell_type": "markdown",
      "metadata": {
        "id": "Fv3Y5t4Jmqtm"
      },
      "source": [
        "\n",
        "##### arrumando as colunas de ano,mês,dia e dias da semana pelo timestamp\n"
      ]
    },
    {
      "cell_type": "code",
      "metadata": {
        "colab": {
          "base_uri": "https://localhost:8080/",
          "height": 204
        },
        "id": "CICt0eF_1OVj",
        "outputId": "5d36be10-f8c4-4d9d-be31-e05870c2ceba"
      },
      "source": [
        "likes['year'] = pd.DatetimeIndex(likes['timestamp']).year\n",
        "likes['month'] = pd.DatetimeIndex(likes['timestamp']).month\n",
        "likes['day'] = pd.DatetimeIndex(likes['timestamp']).day\n",
        "likes['day_name'] = likes['timestamp'].dt.day_name()\n",
        "likes.head()"
      ],
      "execution_count": null,
      "outputs": [
        {
          "output_type": "execute_result",
          "data": {
            "text/html": [
              "<div>\n",
              "<style scoped>\n",
              "    .dataframe tbody tr th:only-of-type {\n",
              "        vertical-align: middle;\n",
              "    }\n",
              "\n",
              "    .dataframe tbody tr th {\n",
              "        vertical-align: top;\n",
              "    }\n",
              "\n",
              "    .dataframe thead th {\n",
              "        text-align: right;\n",
              "    }\n",
              "</style>\n",
              "<table border=\"1\" class=\"dataframe\">\n",
              "  <thead>\n",
              "    <tr style=\"text-align: right;\">\n",
              "      <th></th>\n",
              "      <th>title</th>\n",
              "      <th>timestamp</th>\n",
              "      <th>year</th>\n",
              "      <th>month</th>\n",
              "      <th>day</th>\n",
              "      <th>day_name</th>\n",
              "    </tr>\n",
              "  </thead>\n",
              "  <tbody>\n",
              "    <tr>\n",
              "      <th>0</th>\n",
              "      <td>c.syresmith</td>\n",
              "      <td>2015-02-12 13:35:54</td>\n",
              "      <td>2015</td>\n",
              "      <td>2</td>\n",
              "      <td>12</td>\n",
              "      <td>Thursday</td>\n",
              "    </tr>\n",
              "    <tr>\n",
              "      <th>1</th>\n",
              "      <td>toupassada</td>\n",
              "      <td>2015-02-11 12:14:11</td>\n",
              "      <td>2015</td>\n",
              "      <td>2</td>\n",
              "      <td>11</td>\n",
              "      <td>Wednesday</td>\n",
              "    </tr>\n",
              "    <tr>\n",
              "      <th>2</th>\n",
              "      <td>sarcasmofeminino</td>\n",
              "      <td>2015-02-11 11:39:49</td>\n",
              "      <td>2015</td>\n",
              "      <td>2</td>\n",
              "      <td>11</td>\n",
              "      <td>Wednesday</td>\n",
              "    </tr>\n",
              "    <tr>\n",
              "      <th>3</th>\n",
              "      <td>sarcasmofeminino</td>\n",
              "      <td>2015-02-10 21:48:28</td>\n",
              "      <td>2015</td>\n",
              "      <td>2</td>\n",
              "      <td>10</td>\n",
              "      <td>Tuesday</td>\n",
              "    </tr>\n",
              "    <tr>\n",
              "      <th>4</th>\n",
              "      <td>sarcasmofeminino</td>\n",
              "      <td>2015-02-10 21:47:52</td>\n",
              "      <td>2015</td>\n",
              "      <td>2</td>\n",
              "      <td>10</td>\n",
              "      <td>Tuesday</td>\n",
              "    </tr>\n",
              "  </tbody>\n",
              "</table>\n",
              "</div>"
            ],
            "text/plain": [
              "              title           timestamp  year  month  day   day_name\n",
              "0       c.syresmith 2015-02-12 13:35:54  2015      2   12   Thursday\n",
              "1        toupassada 2015-02-11 12:14:11  2015      2   11  Wednesday\n",
              "2  sarcasmofeminino 2015-02-11 11:39:49  2015      2   11  Wednesday\n",
              "3  sarcasmofeminino 2015-02-10 21:48:28  2015      2   10    Tuesday\n",
              "4  sarcasmofeminino 2015-02-10 21:47:52  2015      2   10    Tuesday"
            ]
          },
          "metadata": {
            "tags": []
          },
          "execution_count": 79
        }
      ]
    },
    {
      "cell_type": "code",
      "metadata": {
        "colab": {
          "base_uri": "https://localhost:8080/"
        },
        "id": "iLkeJ3_x2n8k",
        "outputId": "e0bd9bad-cc8f-468d-976e-5b55831321d1"
      },
      "source": [
        "likes['timestamp'].dt.hour"
      ],
      "execution_count": null,
      "outputs": [
        {
          "output_type": "execute_result",
          "data": {
            "text/plain": [
              "0        13\n",
              "1        12\n",
              "2        11\n",
              "3        21\n",
              "4        21\n",
              "         ..\n",
              "28315    22\n",
              "28316    22\n",
              "28317    22\n",
              "28318    22\n",
              "28319    22\n",
              "Name: timestamp, Length: 28320, dtype: int64"
            ]
          },
          "metadata": {
            "tags": []
          },
          "execution_count": 80
        }
      ]
    },
    {
      "cell_type": "code",
      "metadata": {
        "colab": {
          "base_uri": "https://localhost:8080/"
        },
        "id": "FdYYrev5WV9U",
        "outputId": "a13b6803-3943-4970-c33f-63656e37b3fc"
      },
      "source": [
        "likes.shape"
      ],
      "execution_count": null,
      "outputs": [
        {
          "output_type": "execute_result",
          "data": {
            "text/plain": [
              "(28320, 6)"
            ]
          },
          "metadata": {
            "tags": []
          },
          "execution_count": 81
        }
      ]
    },
    {
      "cell_type": "markdown",
      "metadata": {
        "id": "aNyqlpRdgA2g"
      },
      "source": [
        "##### função para criar colunas com os horários e parte do dia"
      ]
    },
    {
      "cell_type": "code",
      "metadata": {
        "id": "esARk_4FWY-Q"
      },
      "source": [
        "def get_part_of_day(x):\n",
        "    if (x > 7) and (x <= 11):\n",
        "        return 'Manhã'\n",
        "    elif (x > 11) and (x <= 17 ):\n",
        "        return 'Tarde'\n",
        "    elif (x > 17) and (x <= 23):\n",
        "        return 'Noite'\n",
        "    elif (x >= 0) and (x <= 6) :\n",
        "        return 'Madrugada'\n",
        "likes['part_of_day'] = likes['timestamp'].dt.hour.apply(get_part_of_day)"
      ],
      "execution_count": null,
      "outputs": []
    },
    {
      "cell_type": "markdown",
      "metadata": {
        "id": "pnqYfoFdgNm2"
      },
      "source": [
        "##### adicionando os títulos dos meses"
      ]
    },
    {
      "cell_type": "code",
      "metadata": {
        "colab": {
          "base_uri": "https://localhost:8080/",
          "height": 204
        },
        "id": "csUaq77HXcLc",
        "outputId": "6e67ee04-4da0-4898-a505-e149b6cfcd2e"
      },
      "source": [
        "month = {\t\n",
        "    1:'January',\n",
        "\t\t2:'February',\n",
        "\t\t3:'March',\n",
        "\t\t4:'April',\n",
        "\t\t5:'May',\n",
        "\t\t6:'June',\n",
        "\t\t7:'July',\n",
        "\t\t8:'August',\n",
        "\t\t9:'September',\n",
        "\t\t10:'October',\n",
        "\t\t11:'November',\n",
        "\t\t12:'December'\t\t\n",
        "}\n",
        "\n",
        "likes['month'].replace(month, inplace=True)\n",
        "likes.head()"
      ],
      "execution_count": null,
      "outputs": [
        {
          "output_type": "execute_result",
          "data": {
            "text/html": [
              "<div>\n",
              "<style scoped>\n",
              "    .dataframe tbody tr th:only-of-type {\n",
              "        vertical-align: middle;\n",
              "    }\n",
              "\n",
              "    .dataframe tbody tr th {\n",
              "        vertical-align: top;\n",
              "    }\n",
              "\n",
              "    .dataframe thead th {\n",
              "        text-align: right;\n",
              "    }\n",
              "</style>\n",
              "<table border=\"1\" class=\"dataframe\">\n",
              "  <thead>\n",
              "    <tr style=\"text-align: right;\">\n",
              "      <th></th>\n",
              "      <th>title</th>\n",
              "      <th>timestamp</th>\n",
              "      <th>year</th>\n",
              "      <th>month</th>\n",
              "      <th>day</th>\n",
              "      <th>day_name</th>\n",
              "      <th>part_of_day</th>\n",
              "    </tr>\n",
              "  </thead>\n",
              "  <tbody>\n",
              "    <tr>\n",
              "      <th>0</th>\n",
              "      <td>c.syresmith</td>\n",
              "      <td>2015-02-12 13:35:54</td>\n",
              "      <td>2015</td>\n",
              "      <td>February</td>\n",
              "      <td>12</td>\n",
              "      <td>Thursday</td>\n",
              "      <td>Tarde</td>\n",
              "    </tr>\n",
              "    <tr>\n",
              "      <th>1</th>\n",
              "      <td>toupassada</td>\n",
              "      <td>2015-02-11 12:14:11</td>\n",
              "      <td>2015</td>\n",
              "      <td>February</td>\n",
              "      <td>11</td>\n",
              "      <td>Wednesday</td>\n",
              "      <td>Tarde</td>\n",
              "    </tr>\n",
              "    <tr>\n",
              "      <th>2</th>\n",
              "      <td>sarcasmofeminino</td>\n",
              "      <td>2015-02-11 11:39:49</td>\n",
              "      <td>2015</td>\n",
              "      <td>February</td>\n",
              "      <td>11</td>\n",
              "      <td>Wednesday</td>\n",
              "      <td>Manhã</td>\n",
              "    </tr>\n",
              "    <tr>\n",
              "      <th>3</th>\n",
              "      <td>sarcasmofeminino</td>\n",
              "      <td>2015-02-10 21:48:28</td>\n",
              "      <td>2015</td>\n",
              "      <td>February</td>\n",
              "      <td>10</td>\n",
              "      <td>Tuesday</td>\n",
              "      <td>Noite</td>\n",
              "    </tr>\n",
              "    <tr>\n",
              "      <th>4</th>\n",
              "      <td>sarcasmofeminino</td>\n",
              "      <td>2015-02-10 21:47:52</td>\n",
              "      <td>2015</td>\n",
              "      <td>February</td>\n",
              "      <td>10</td>\n",
              "      <td>Tuesday</td>\n",
              "      <td>Noite</td>\n",
              "    </tr>\n",
              "  </tbody>\n",
              "</table>\n",
              "</div>"
            ],
            "text/plain": [
              "              title           timestamp  year  ... day   day_name part_of_day\n",
              "0       c.syresmith 2015-02-12 13:35:54  2015  ...  12   Thursday       Tarde\n",
              "1        toupassada 2015-02-11 12:14:11  2015  ...  11  Wednesday       Tarde\n",
              "2  sarcasmofeminino 2015-02-11 11:39:49  2015  ...  11  Wednesday       Manhã\n",
              "3  sarcasmofeminino 2015-02-10 21:48:28  2015  ...  10    Tuesday       Noite\n",
              "4  sarcasmofeminino 2015-02-10 21:47:52  2015  ...  10    Tuesday       Noite\n",
              "\n",
              "[5 rows x 7 columns]"
            ]
          },
          "metadata": {
            "tags": []
          },
          "execution_count": 83
        }
      ]
    },
    {
      "cell_type": "markdown",
      "metadata": {
        "id": "lx0s8J9Oh8ra"
      },
      "source": [
        "##### criando o arquivo csv"
      ]
    },
    {
      "cell_type": "code",
      "metadata": {
        "id": "X1TRHpwx7RXH"
      },
      "source": [
        "likes.to_csv('curtidas.csv')\n"
      ],
      "execution_count": null,
      "outputs": []
    },
    {
      "cell_type": "markdown",
      "metadata": {
        "id": "iGybZwchiNz_"
      },
      "source": [
        "##### respondendo as perguntas"
      ]
    },
    {
      "cell_type": "markdown",
      "metadata": {
        "id": "LfHoL3RnYCi5"
      },
      "source": [
        "#### **Quais as contas no Instagram Juliana mais deu like?**\n"
      ]
    },
    {
      "cell_type": "code",
      "metadata": {
        "colab": {
          "base_uri": "https://localhost:8080/",
          "height": 204
        },
        "id": "PK7uSeSlYO0V",
        "outputId": "0ed99f3b-56fd-42bd-cb5e-2680c64902dd"
      },
      "source": [
        "likes = pd.read_csv('curtidas.csv', index_col=[0])\n",
        "likes['timestamp'] = pd.to_datetime(likes['timestamp'])\n",
        "likes.head()"
      ],
      "execution_count": null,
      "outputs": [
        {
          "output_type": "execute_result",
          "data": {
            "text/html": [
              "<div>\n",
              "<style scoped>\n",
              "    .dataframe tbody tr th:only-of-type {\n",
              "        vertical-align: middle;\n",
              "    }\n",
              "\n",
              "    .dataframe tbody tr th {\n",
              "        vertical-align: top;\n",
              "    }\n",
              "\n",
              "    .dataframe thead th {\n",
              "        text-align: right;\n",
              "    }\n",
              "</style>\n",
              "<table border=\"1\" class=\"dataframe\">\n",
              "  <thead>\n",
              "    <tr style=\"text-align: right;\">\n",
              "      <th></th>\n",
              "      <th>title</th>\n",
              "      <th>timestamp</th>\n",
              "      <th>year</th>\n",
              "      <th>month</th>\n",
              "      <th>day</th>\n",
              "      <th>day_name</th>\n",
              "      <th>part_of_day</th>\n",
              "    </tr>\n",
              "  </thead>\n",
              "  <tbody>\n",
              "    <tr>\n",
              "      <th>0</th>\n",
              "      <td>c.syresmith</td>\n",
              "      <td>2015-02-12 13:35:54</td>\n",
              "      <td>2015</td>\n",
              "      <td>February</td>\n",
              "      <td>12</td>\n",
              "      <td>Thursday</td>\n",
              "      <td>Tarde</td>\n",
              "    </tr>\n",
              "    <tr>\n",
              "      <th>1</th>\n",
              "      <td>toupassada</td>\n",
              "      <td>2015-02-11 12:14:11</td>\n",
              "      <td>2015</td>\n",
              "      <td>February</td>\n",
              "      <td>11</td>\n",
              "      <td>Wednesday</td>\n",
              "      <td>Tarde</td>\n",
              "    </tr>\n",
              "    <tr>\n",
              "      <th>2</th>\n",
              "      <td>sarcasmofeminino</td>\n",
              "      <td>2015-02-11 11:39:49</td>\n",
              "      <td>2015</td>\n",
              "      <td>February</td>\n",
              "      <td>11</td>\n",
              "      <td>Wednesday</td>\n",
              "      <td>Manhã</td>\n",
              "    </tr>\n",
              "    <tr>\n",
              "      <th>3</th>\n",
              "      <td>sarcasmofeminino</td>\n",
              "      <td>2015-02-10 21:48:28</td>\n",
              "      <td>2015</td>\n",
              "      <td>February</td>\n",
              "      <td>10</td>\n",
              "      <td>Tuesday</td>\n",
              "      <td>Noite</td>\n",
              "    </tr>\n",
              "    <tr>\n",
              "      <th>4</th>\n",
              "      <td>sarcasmofeminino</td>\n",
              "      <td>2015-02-10 21:47:52</td>\n",
              "      <td>2015</td>\n",
              "      <td>February</td>\n",
              "      <td>10</td>\n",
              "      <td>Tuesday</td>\n",
              "      <td>Noite</td>\n",
              "    </tr>\n",
              "  </tbody>\n",
              "</table>\n",
              "</div>"
            ],
            "text/plain": [
              "              title           timestamp  year  ... day   day_name part_of_day\n",
              "0       c.syresmith 2015-02-12 13:35:54  2015  ...  12   Thursday       Tarde\n",
              "1        toupassada 2015-02-11 12:14:11  2015  ...  11  Wednesday       Tarde\n",
              "2  sarcasmofeminino 2015-02-11 11:39:49  2015  ...  11  Wednesday       Manhã\n",
              "3  sarcasmofeminino 2015-02-10 21:48:28  2015  ...  10    Tuesday       Noite\n",
              "4  sarcasmofeminino 2015-02-10 21:47:52  2015  ...  10    Tuesday       Noite\n",
              "\n",
              "[5 rows x 7 columns]"
            ]
          },
          "metadata": {
            "tags": []
          },
          "execution_count": 85
        }
      ]
    },
    {
      "cell_type": "code",
      "metadata": {
        "colab": {
          "base_uri": "https://localhost:8080/"
        },
        "id": "Eo9V25dzYbrF",
        "outputId": "94a9c8fa-1c82-48e7-9cb9-beaac3ed828f"
      },
      "source": [
        "likes.title.value_counts()"
      ],
      "execution_count": null,
      "outputs": [
        {
          "output_type": "execute_result",
          "data": {
            "text/plain": [
              "instasurreal              2201\n",
              "anitta                    1035\n",
              "canaldoscacadores          689\n",
              "chloeclem                  672\n",
              "toupassada                 639\n",
              "                          ... \n",
              "geerocha                     1\n",
              "thebryanabasolo              1\n",
              "universalorlandohotels       1\n",
              "marcelofreixo                1\n",
              "marinabagarolli              1\n",
              "Name: title, Length: 1754, dtype: int64"
            ]
          },
          "metadata": {
            "tags": []
          },
          "execution_count": 86
        }
      ]
    },
    {
      "cell_type": "markdown",
      "metadata": {
        "id": "3rHxxslrY7-Z"
      },
      "source": [
        "#### **Quantos likes Juliana já distribuiu no Instagram?**"
      ]
    },
    {
      "cell_type": "code",
      "metadata": {
        "colab": {
          "base_uri": "https://localhost:8080/"
        },
        "id": "Uq5rwq6dZDex",
        "outputId": "c6174a8b-00ac-410f-d4d2-c08776ff9edb"
      },
      "source": [
        "likes.shape"
      ],
      "execution_count": null,
      "outputs": [
        {
          "output_type": "execute_result",
          "data": {
            "text/plain": [
              "(28320, 7)"
            ]
          },
          "metadata": {
            "tags": []
          },
          "execution_count": 87
        }
      ]
    },
    {
      "cell_type": "markdown",
      "metadata": {
        "id": "fQynn1FwZVgc"
      },
      "source": [
        "#### **Quais as contas que Juliana mais deu like ao longo dos anos?**"
      ]
    },
    {
      "cell_type": "code",
      "metadata": {
        "colab": {
          "base_uri": "https://localhost:8080/",
          "height": 886
        },
        "id": "o-BS6QSXaC7T",
        "outputId": "978d5f57-bc7c-47e6-c493-bc40f33801c6"
      },
      "source": [
        "likes.groupby(['year','title'],as_index= False).size().sort_values(['year','size'],ascending = False).groupby('year').head(3)"
      ],
      "execution_count": null,
      "outputs": [
        {
          "output_type": "execute_result",
          "data": {
            "text/html": [
              "<div>\n",
              "<style scoped>\n",
              "    .dataframe tbody tr th:only-of-type {\n",
              "        vertical-align: middle;\n",
              "    }\n",
              "\n",
              "    .dataframe tbody tr th {\n",
              "        vertical-align: top;\n",
              "    }\n",
              "\n",
              "    .dataframe thead th {\n",
              "        text-align: right;\n",
              "    }\n",
              "</style>\n",
              "<table border=\"1\" class=\"dataframe\">\n",
              "  <thead>\n",
              "    <tr style=\"text-align: right;\">\n",
              "      <th></th>\n",
              "      <th>year</th>\n",
              "      <th>title</th>\n",
              "      <th>size</th>\n",
              "    </tr>\n",
              "  </thead>\n",
              "  <tbody>\n",
              "    <tr>\n",
              "      <th>2315</th>\n",
              "      <td>2021</td>\n",
              "      <td>isaias</td>\n",
              "      <td>254</td>\n",
              "    </tr>\n",
              "    <tr>\n",
              "      <th>2338</th>\n",
              "      <td>2021</td>\n",
              "      <td>juliette</td>\n",
              "      <td>171</td>\n",
              "    </tr>\n",
              "    <tr>\n",
              "      <th>2109</th>\n",
              "      <td>2021</td>\n",
              "      <td>canaldoscacadores</td>\n",
              "      <td>109</td>\n",
              "    </tr>\n",
              "    <tr>\n",
              "      <th>1568</th>\n",
              "      <td>2020</td>\n",
              "      <td>canaldoscacadores</td>\n",
              "      <td>197</td>\n",
              "    </tr>\n",
              "    <tr>\n",
              "      <th>1890</th>\n",
              "      <td>2020</td>\n",
              "      <td>projetomilhao</td>\n",
              "      <td>194</td>\n",
              "    </tr>\n",
              "    <tr>\n",
              "      <th>1801</th>\n",
              "      <td>2020</td>\n",
              "      <td>manugavassi</td>\n",
              "      <td>146</td>\n",
              "    </tr>\n",
              "    <tr>\n",
              "      <th>1260</th>\n",
              "      <td>2019</td>\n",
              "      <td>anitta</td>\n",
              "      <td>215</td>\n",
              "    </tr>\n",
              "    <tr>\n",
              "      <th>1273</th>\n",
              "      <td>2019</td>\n",
              "      <td>canaldoscacadores</td>\n",
              "      <td>191</td>\n",
              "    </tr>\n",
              "    <tr>\n",
              "      <th>1428</th>\n",
              "      <td>2019</td>\n",
              "      <td>promilitares</td>\n",
              "      <td>149</td>\n",
              "    </tr>\n",
              "    <tr>\n",
              "      <th>817</th>\n",
              "      <td>2018</td>\n",
              "      <td>anitta</td>\n",
              "      <td>241</td>\n",
              "    </tr>\n",
              "    <tr>\n",
              "      <th>1186</th>\n",
              "      <td>2018</td>\n",
              "      <td>tacielealcolea</td>\n",
              "      <td>184</td>\n",
              "    </tr>\n",
              "    <tr>\n",
              "      <th>852</th>\n",
              "      <td>2018</td>\n",
              "      <td>canaldoscacadores</td>\n",
              "      <td>164</td>\n",
              "    </tr>\n",
              "    <tr>\n",
              "      <th>560</th>\n",
              "      <td>2017</td>\n",
              "      <td>instasurreal</td>\n",
              "      <td>690</td>\n",
              "    </tr>\n",
              "    <tr>\n",
              "      <th>439</th>\n",
              "      <td>2017</td>\n",
              "      <td>anitta</td>\n",
              "      <td>207</td>\n",
              "    </tr>\n",
              "    <tr>\n",
              "      <th>484</th>\n",
              "      <td>2017</td>\n",
              "      <td>chloeclem</td>\n",
              "      <td>174</td>\n",
              "    </tr>\n",
              "    <tr>\n",
              "      <th>281</th>\n",
              "      <td>2016</td>\n",
              "      <td>instasurreal</td>\n",
              "      <td>1000</td>\n",
              "    </tr>\n",
              "    <tr>\n",
              "      <th>275</th>\n",
              "      <td>2016</td>\n",
              "      <td>igorsaringer</td>\n",
              "      <td>326</td>\n",
              "    </tr>\n",
              "    <tr>\n",
              "      <th>390</th>\n",
              "      <td>2016</td>\n",
              "      <td>taisdeverdade</td>\n",
              "      <td>247</td>\n",
              "    </tr>\n",
              "    <tr>\n",
              "      <th>105</th>\n",
              "      <td>2015</td>\n",
              "      <td>instasurreal</td>\n",
              "      <td>410</td>\n",
              "    </tr>\n",
              "    <tr>\n",
              "      <th>88</th>\n",
              "      <td>2015</td>\n",
              "      <td>chloeclem</td>\n",
              "      <td>335</td>\n",
              "    </tr>\n",
              "    <tr>\n",
              "      <th>157</th>\n",
              "      <td>2015</td>\n",
              "      <td>toupassada</td>\n",
              "      <td>312</td>\n",
              "    </tr>\n",
              "    <tr>\n",
              "      <th>30</th>\n",
              "      <td>2014</td>\n",
              "      <td>instasurreal</td>\n",
              "      <td>100</td>\n",
              "    </tr>\n",
              "    <tr>\n",
              "      <th>63</th>\n",
              "      <td>2014</td>\n",
              "      <td>toupassada</td>\n",
              "      <td>64</td>\n",
              "    </tr>\n",
              "    <tr>\n",
              "      <th>31</th>\n",
              "      <td>2014</td>\n",
              "      <td>ironicadisney</td>\n",
              "      <td>45</td>\n",
              "    </tr>\n",
              "    <tr>\n",
              "      <th>8</th>\n",
              "      <td>2013</td>\n",
              "      <td>paulogustavo31</td>\n",
              "      <td>3</td>\n",
              "    </tr>\n",
              "    <tr>\n",
              "      <th>6</th>\n",
              "      <td>2013</td>\n",
              "      <td>matheusmoreira9</td>\n",
              "      <td>2</td>\n",
              "    </tr>\n",
              "    <tr>\n",
              "      <th>0</th>\n",
              "      <td>2013</td>\n",
              "      <td>camillalindhan</td>\n",
              "      <td>1</td>\n",
              "    </tr>\n",
              "  </tbody>\n",
              "</table>\n",
              "</div>"
            ],
            "text/plain": [
              "      year              title  size\n",
              "2315  2021             isaias   254\n",
              "2338  2021           juliette   171\n",
              "2109  2021  canaldoscacadores   109\n",
              "1568  2020  canaldoscacadores   197\n",
              "1890  2020      projetomilhao   194\n",
              "1801  2020        manugavassi   146\n",
              "1260  2019             anitta   215\n",
              "1273  2019  canaldoscacadores   191\n",
              "1428  2019       promilitares   149\n",
              "817   2018             anitta   241\n",
              "1186  2018     tacielealcolea   184\n",
              "852   2018  canaldoscacadores   164\n",
              "560   2017       instasurreal   690\n",
              "439   2017             anitta   207\n",
              "484   2017          chloeclem   174\n",
              "281   2016       instasurreal  1000\n",
              "275   2016       igorsaringer   326\n",
              "390   2016      taisdeverdade   247\n",
              "105   2015       instasurreal   410\n",
              "88    2015          chloeclem   335\n",
              "157   2015         toupassada   312\n",
              "30    2014       instasurreal   100\n",
              "63    2014         toupassada    64\n",
              "31    2014      ironicadisney    45\n",
              "8     2013     paulogustavo31     3\n",
              "6     2013    matheusmoreira9     2\n",
              "0     2013     camillalindhan     1"
            ]
          },
          "metadata": {
            "tags": []
          },
          "execution_count": 88
        }
      ]
    },
    {
      "cell_type": "markdown",
      "metadata": {
        "id": "rSv4Mg6Dbvi1"
      },
      "source": [
        "#### **Quantos likes Juliana distribuiu por ano?**\n",
        "\n"
      ]
    },
    {
      "cell_type": "code",
      "metadata": {
        "colab": {
          "base_uri": "https://localhost:8080/"
        },
        "id": "zhIn0Lcfb6Lx",
        "outputId": "3c79a1a2-7321-4080-ea44-f0c774868cfe"
      },
      "source": [
        "likes_anos = likes['year'].value_counts()\n",
        "likes_anos\n"
      ],
      "execution_count": null,
      "outputs": [
        {
          "output_type": "execute_result",
          "data": {
            "text/plain": [
              "2016    5553\n",
              "2020    5212\n",
              "2017    4829\n",
              "2018    3986\n",
              "2021    3245\n",
              "2019    2632\n",
              "2015    2321\n",
              "2014     530\n",
              "2013      12\n",
              "Name: year, dtype: int64"
            ]
          },
          "metadata": {
            "tags": []
          },
          "execution_count": 89
        }
      ]
    },
    {
      "cell_type": "markdown",
      "metadata": {
        "id": "EXgV8fPucHoD"
      },
      "source": [
        "#### **E por mês?**"
      ]
    },
    {
      "cell_type": "code",
      "metadata": {
        "colab": {
          "base_uri": "https://localhost:8080/"
        },
        "id": "8wYhJCMVcNdf",
        "outputId": "57ed5a25-8e22-479a-f751-eb33c37074fb"
      },
      "source": [
        "likes_mes = likes['month'].value_counts()\n",
        "likes_mes"
      ],
      "execution_count": null,
      "outputs": [
        {
          "output_type": "execute_result",
          "data": {
            "text/plain": [
              "December     2843\n",
              "March        2679\n",
              "November     2651\n",
              "June         2411\n",
              "January      2399\n",
              "May          2335\n",
              "July         2325\n",
              "April        2301\n",
              "October      2228\n",
              "September    2141\n",
              "February     2126\n",
              "August       1881\n",
              "Name: month, dtype: int64"
            ]
          },
          "metadata": {
            "tags": []
          },
          "execution_count": 90
        }
      ]
    },
    {
      "cell_type": "code",
      "metadata": {
        "id": "tiRRkWEWKNwt"
      },
      "source": [
        "likes.to_csv('likes_insta.csv')"
      ],
      "execution_count": null,
      "outputs": []
    }
  ]
}